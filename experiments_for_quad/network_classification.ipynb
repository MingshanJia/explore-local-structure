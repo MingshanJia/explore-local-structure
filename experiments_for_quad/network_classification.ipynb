{
 "cells": [
  {
   "cell_type": "code",
   "execution_count": 1,
   "metadata": {},
   "outputs": [],
   "source": [
    "import networkx as nx\n",
    "import numpy as np\n",
    "import matplotlib.pyplot as plt\n",
    "from sklearn import metrics\n",
    "from sklearn.cluster import KMeans\n",
    "from sklearn.decomposition import PCA\n",
    "from sklearn.preprocessing import scale"
   ]
  },
  {
   "cell_type": "code",
   "execution_count": 4,
   "metadata": {},
   "outputs": [
    {
     "ename": "NameError",
     "evalue": "name 'fw_info_3' is not defined",
     "output_type": "error",
     "traceback": [
      "\u001b[0;31m---------------------------------------------------------------------------\u001b[0m",
      "\u001b[0;31mNameError\u001b[0m                                 Traceback (most recent call last)",
      "\u001b[0;32m<ipython-input-4-f276279d2691>\u001b[0m in \u001b[0;36m<module>\u001b[0;34m\u001b[0m\n\u001b[1;32m      2\u001b[0m \u001b[0;31m# X.append(fw_info_1[2:])\u001b[0m\u001b[0;34m\u001b[0m\u001b[0;34m\u001b[0m\u001b[0;34m\u001b[0m\u001b[0m\n\u001b[1;32m      3\u001b[0m \u001b[0;31m# X.append(fw_info_2[2:])\u001b[0m\u001b[0;34m\u001b[0m\u001b[0;34m\u001b[0m\u001b[0;34m\u001b[0m\u001b[0m\n\u001b[0;32m----> 4\u001b[0;31m \u001b[0mX\u001b[0m\u001b[0;34m.\u001b[0m\u001b[0mappend\u001b[0m\u001b[0;34m(\u001b[0m\u001b[0mfw_info_3\u001b[0m\u001b[0;34m[\u001b[0m\u001b[0;36m2\u001b[0m\u001b[0;34m:\u001b[0m\u001b[0;34m]\u001b[0m\u001b[0;34m)\u001b[0m\u001b[0;34m\u001b[0m\u001b[0;34m\u001b[0m\u001b[0m\n\u001b[0m\u001b[1;32m      5\u001b[0m \u001b[0mX\u001b[0m\u001b[0;34m.\u001b[0m\u001b[0mappend\u001b[0m\u001b[0;34m(\u001b[0m\u001b[0mfw_info_4\u001b[0m\u001b[0;34m[\u001b[0m\u001b[0;36m2\u001b[0m\u001b[0;34m:\u001b[0m\u001b[0;34m]\u001b[0m\u001b[0;34m)\u001b[0m\u001b[0;34m\u001b[0m\u001b[0;34m\u001b[0m\u001b[0m\n\u001b[1;32m      6\u001b[0m \u001b[0mX\u001b[0m\u001b[0;34m.\u001b[0m\u001b[0mappend\u001b[0m\u001b[0;34m(\u001b[0m\u001b[0msoc_info_1\u001b[0m\u001b[0;34m[\u001b[0m\u001b[0;36m2\u001b[0m\u001b[0;34m:\u001b[0m\u001b[0;34m]\u001b[0m\u001b[0;34m)\u001b[0m\u001b[0;34m\u001b[0m\u001b[0;34m\u001b[0m\u001b[0m\n",
      "\u001b[0;31mNameError\u001b[0m: name 'fw_info_3' is not defined"
     ]
    }
   ],
   "source": [
    "X = []\n",
    "# X.append(fw_info_1[2:])\n",
    "# X.append(fw_info_2[2:])\n",
    "X.append(fw_info_3[2:])\n",
    "X.append(fw_info_4[2:])\n",
    "X.append(soc_info_1[2:])\n",
    "X.append(soc_info_2[2:])\n",
    "X.append(soc_info_3[2:])\n",
    "# X.append(soc_info_4[2:])\n",
    "X.append(soc_info_5[2:])\n",
    "# X.append(soc_info_6[2:])\n",
    "X.append(ppi_info_1[2:])\n",
    "X.append(ppi_info_2[2:])\n",
    "X.append(ppi_info_3[2:])\n",
    "X.append(ppi_info_4[2:])\n",
    "X.append(cit_info_1[2:])\n",
    "X.append(cit_info_2[2:])\n",
    "# X.append(cit_info_3[2:])\n",
    "# X.append(cit_info_4[2:])\n",
    "X.append(rd_info_1[2:])\n",
    "X.append(rd_info_2[2:])\n",
    "X.append(qa_info_1[2:])\n",
    "X.append(qa_info_2[2:])\n",
    "# labels = [1, 1, 1, 1, 2, 2, 2, 2, 2, 2, 3, 3, 3, 3, 4, 4, 4, 4, 5, 5, 6, 6]"
   ]
  },
  {
   "cell_type": "code",
   "execution_count": 163,
   "metadata": {},
   "outputs": [],
   "source": [
    "data = scale(X)\n",
    "n_samples, n_features = data.shape\n",
    "n_cluster = len(np.unique(labels))"
   ]
  },
  {
   "cell_type": "code",
   "execution_count": 15,
   "metadata": {},
   "outputs": [],
   "source": [
    "labels = [1, 1, 2, 2, 2, 2, 3, 3, 3, 3, 4, 4, 5, 5, 6, 6]"
   ]
  },
  {
   "cell_type": "code",
   "execution_count": 33,
   "metadata": {},
   "outputs": [],
   "source": [
    "processed_data = np.array([[ 2.625031  ,  2.05596506,  2.64133173, -0.68475736, -0.90535925],\n",
    "       [ 1.93576588,  2.87767896,  2.50758522, -0.64923867, -0.69917168],\n",
    "       [ 1.23426139,  0.72387196,  0.28519382, -0.50538388, -0.37426097],\n",
    "       [-0.45302402, -0.29001889, -0.39966624, -0.19033778, -0.10307284],\n",
    "       [-0.47562991, -0.45084044, -0.55025347,  0.31090141,  0.72379356],\n",
    "       [-0.35278871, -0.10132745, -0.35159624,  0.13135904,  0.09642606],\n",
    "       [-0.70922316, -0.58607211, -0.47640833, -0.35361255, -0.60654892],\n",
    "       [-0.65913293, -0.28278404, -0.26643147,  0.10076475, -0.55505852],\n",
    "       [-0.40711306, -0.56876295, -0.50725285, -0.52212673, -0.36250905],\n",
    "       [-0.51934214, -0.41739865, -0.4756703 , -0.18788403, -0.00911519],\n",
    "       [-0.39720502, -0.43657943, -0.53758519, -0.26235014,  0.58652083],\n",
    "       [ 0.55016894, -0.11689392, -0.23255896, -0.50442121, -0.36535866],\n",
    "       [-0.46586574, -0.37789886, -0.02389889, -0.71951084, -1.01732008],\n",
    "       [-0.52088691, -0.58446122, -0.31386881, -0.71846865, -1.01644117],\n",
    "       [-0.66209229, -0.62934491, -0.63164961,  1.48354301,  2.16210062],\n",
    "       [-0.72292331, -0.81513312, -0.6672704 ,  3.27152364,  2.44537527]])"
   ]
  },
  {
   "cell_type": "code",
   "execution_count": 10,
   "metadata": {},
   "outputs": [
    {
     "data": {
      "text/plain": [
       "array([[ 2.625031  ,  2.05596506,  2.64133173],\n",
       "       [ 1.93576588,  2.87767896,  2.50758522],\n",
       "       [ 1.23426139,  0.72387196,  0.28519382],\n",
       "       [-0.45302402, -0.29001889, -0.39966624],\n",
       "       [-0.47562991, -0.45084044, -0.55025347],\n",
       "       [-0.35278871, -0.10132745, -0.35159624],\n",
       "       [-0.70922316, -0.58607211, -0.47640833],\n",
       "       [-0.65913293, -0.28278404, -0.26643147],\n",
       "       [-0.40711306, -0.56876295, -0.50725285],\n",
       "       [-0.51934214, -0.41739865, -0.4756703 ],\n",
       "       [-0.39720502, -0.43657943, -0.53758519],\n",
       "       [ 0.55016894, -0.11689392, -0.23255896],\n",
       "       [-0.46586574, -0.37789886, -0.02389889],\n",
       "       [-0.52088691, -0.58446122, -0.31386881],\n",
       "       [-0.66209229, -0.62934491, -0.63164961],\n",
       "       [-0.72292331, -0.81513312, -0.6672704 ]])"
      ]
     },
     "execution_count": 10,
     "metadata": {},
     "output_type": "execute_result"
    }
   ],
   "source": [
    "processed_data[:, :3]"
   ]
  },
  {
   "cell_type": "code",
   "execution_count": 34,
   "metadata": {},
   "outputs": [],
   "source": [
    "def classify_networks(data, n_cluster, repeat=500):\n",
    "    homo = 0\n",
    "    compl = 0\n",
    "    v_measure = 0\n",
    "    for i in range(repeat):\n",
    "        estimator = KMeans(init='random', n_clusters=n_cluster, n_init=1)\n",
    "        estimator.fit(data)\n",
    "        h = metrics.homogeneity_score(labels, estimator.labels_)\n",
    "        c = metrics.completeness_score(labels, estimator.labels_)\n",
    "        v = metrics.v_measure_score(labels, estimator.labels_)\n",
    "        if h > homo:\n",
    "            homo = h\n",
    "        if c > compl:\n",
    "            compl = c\n",
    "        if v > v_measure:\n",
    "            v_measure = v\n",
    "            model = estimator\n",
    "    return model, homo, compl, v_measure"
   ]
  },
  {
   "cell_type": "code",
   "execution_count": 946,
   "metadata": {},
   "outputs": [
    {
     "data": {
      "text/plain": [
       "(KMeans(algorithm='auto', copy_x=True, init='random', max_iter=300, n_clusters=6,\n",
       "        n_init=1, n_jobs=None, precompute_distances='auto', random_state=None,\n",
       "        tol=0.0001, verbose=0),\n",
       " 0.8097589881390796,\n",
       " 0.8787160271903635,\n",
       " 0.8263862985601094)"
      ]
     },
     "execution_count": 946,
     "metadata": {},
     "output_type": "execute_result"
    }
   ],
   "source": [
    "classify_networks(data[:, 2:7], n_cluster=6, repeat=1000)"
   ]
  },
  {
   "cell_type": "code",
   "execution_count": 936,
   "metadata": {},
   "outputs": [
    {
     "data": {
      "text/plain": [
       "(KMeans(algorithm='auto', copy_x=True, init='random', max_iter=300, n_clusters=6,\n",
       "        n_init=1, n_jobs=None, precompute_distances='auto', random_state=None,\n",
       "        tol=0.0001, verbose=0),\n",
       " 0.7311278124459133,\n",
       " 0.7664216855012236,\n",
       " 0.7451912005462776)"
      ]
     },
     "execution_count": 936,
     "metadata": {},
     "output_type": "execute_result"
    }
   ],
   "source": [
    "classify_networks(data[:, 2:5], n_cluster=6, repeat=1000)"
   ]
  },
  {
   "cell_type": "code",
   "execution_count": 930,
   "metadata": {},
   "outputs": [
    {
     "data": {
      "text/plain": [
       "array([1, 1, 4, 5, 3, 3, 5, 5, 5, 5, 3, 3, 2, 2, 0, 0], dtype=int32)"
      ]
     },
     "execution_count": 930,
     "metadata": {},
     "output_type": "execute_result"
    }
   ],
   "source": [
    "model_1.labels_"
   ]
  },
  {
   "cell_type": "code",
   "execution_count": 931,
   "metadata": {},
   "outputs": [
    {
     "data": {
      "text/plain": [
       "array([4, 4, 1, 2, 2, 2, 5, 5, 2, 2, 2, 1, 3, 3, 0, 0], dtype=int32)"
      ]
     },
     "execution_count": 931,
     "metadata": {},
     "output_type": "execute_result"
    }
   ],
   "source": [
    "model_2.labels_"
   ]
  },
  {
   "cell_type": "code",
   "execution_count": 17,
   "metadata": {},
   "outputs": [
    {
     "data": {
      "text/plain": [
       "[1, 1, 2, 2, 2, 2, 3, 3, 3, 3, 4, 4, 5, 5, 6, 6]"
      ]
     },
     "execution_count": 17,
     "metadata": {},
     "output_type": "execute_result"
    }
   ],
   "source": [
    "labels"
   ]
  },
  {
   "cell_type": "code",
   "execution_count": 35,
   "metadata": {},
   "outputs": [
    {
     "name": "stdout",
     "output_type": "stream",
     "text": [
      "0.8786311756931664\n",
      "0.9154706405998702\n",
      "0.8966726837441217\n"
     ]
    }
   ],
   "source": [
    "# use k, C, E, I, O\n",
    "reduced_data = PCA(n_components=2).fit_transform(processed_data)\n",
    "kmeans,_,_,_ = classify_networks(reduced_data, n_cluster=6, repeat=1000)\n",
    "print(metrics.homogeneity_score(labels, kmeans.labels_))\n",
    "print(metrics.completeness_score(labels, kmeans.labels_))\n",
    "print(metrics.v_measure_score(labels, kmeans.labels_))"
   ]
  },
  {
   "cell_type": "code",
   "execution_count": 28,
   "metadata": {},
   "outputs": [],
   "source": [
    "# pca = PCA(n_components=5)\n",
    "# pca.fit(processed_data)\n",
    "# print(pca.explained_variance_ratio_)\n",
    "# print(pca.singular_values_)"
   ]
  },
  {
   "cell_type": "code",
   "execution_count": 56,
   "metadata": {},
   "outputs": [
    {
     "name": "stdout",
     "output_type": "stream",
     "text": [
      "0.6188721875540867\n",
      "0.7280849265342195\n",
      "0.6690510135719856\n"
     ]
    }
   ],
   "source": [
    "# use k, C, E\n",
    "reduced_data_2 = PCA(n_components=2).fit_transform(processed_data[:, :3])\n",
    "kmeans_2,_,_,_ = classify_networks(reduced_data_2, n_cluster=6, repeat=1000)\n",
    "print(metrics.homogeneity_score(labels, kmeans_2.labels_))\n",
    "print(metrics.completeness_score(labels, kmeans_2.labels_))\n",
    "print(metrics.v_measure_score(labels, kmeans_2.labels_))"
   ]
  },
  {
   "cell_type": "code",
   "execution_count": 57,
   "metadata": {},
   "outputs": [
    {
     "data": {
      "image/png": "[encoded data removed]",
      "text/plain": [
       "<Figure size 1512x554.4 with 2 Axes>"
      ]
     },
     "metadata": {},
     "output_type": "display_data"
    }
   ],
   "source": [
    "h = .01\n",
    "# Plot the decision boundary. For that, we will assign a color to each\n",
    "x_min, x_max = reduced_data[:, 0].min() - 0.8, reduced_data[:, 0].max() + 0.8\n",
    "y_min, y_max = reduced_data[:, 1].min() - 0.8, reduced_data[:, 1].max() + 0.8\n",
    "xx, yy = np.meshgrid(np.arange(x_min, x_max, h), np.arange(y_min, y_max, h))\n",
    "# Obtain labels for each point in mesh. Use last trained model.\n",
    "Z = kmeans.predict(np.c_[xx.ravel(), yy.ravel()])\n",
    "# Put the result into a color plot\n",
    "Z = Z.reshape(xx.shape)\n",
    "\n",
    "# bottom figure\n",
    "x_min_2, x_max_2 = reduced_data_2[:, 0].min() - 0.8, reduced_data_2[:, 0].max() + 0.8\n",
    "y_min_2, y_max_2 = reduced_data_2[:, 1].min() - 0.8, reduced_data_2[:, 1].max() + 0.8\n",
    "xx_2, yy_2 = np.meshgrid(np.arange(x_min_2, x_max_2, h), np.arange(y_min_2, y_max_2, h))\n",
    "# Obtain labels for each point in mesh. Use last trained model.\n",
    "Z_2 = kmeans_2.predict(np.c_[xx_2.ravel(), yy_2.ravel()])\n",
    "# Put the result into a color plot\n",
    "Z_2 = Z_2.reshape(xx_2.shape)\n",
    "\n",
    "\n",
    "onepic, axes = plt.subplots(1,2,figsize=(21,7.7))\n",
    "plt.subplots_adjust(hspace=0.12, wspace=.12) \n",
    "axes[0].imshow(Z, interpolation='nearest',\n",
    "           extent=(xx.min(), xx.max(), yy.min(), yy.max()),\n",
    "           cmap='summer',\n",
    "           aspect='auto', origin='lower')\n",
    "axes[0].plot(tag_fw[:, 0], tag_fw[:, 1], 's', markersize=9, color=\"blue\", label=\"FW\")\n",
    "axes[0].plot(tag_soc[:, 0], tag_soc[:, 1], '>', markersize=10, color=\"red\", label=\"Soc\")\n",
    "axes[0].plot(tag_ppi[:, 0], tag_ppi[:, 1], 'D', markersize=9, color=\"blue\", label=\"PPI\")\n",
    "axes[0].plot(tag_cit[:, 0], tag_cit[:, 1], '<', markersize=10, color=\"red\", label=\"Cit\")\n",
    "axes[0].plot(tag_rd[:, 0], tag_rd[:, 1], 'd', markersize=11, color=\"blue\", label=\"Rd\")\n",
    "axes[0].plot(tag_qa[:, 0], tag_qa[:, 1], '^', markersize=10, color=\"red\", label=\"QA\")\n",
    "\n",
    "axes[0].legend(prop={'size': 14}, ncol=2)\n",
    "centroids = kmeans.cluster_centers_\n",
    "# area labels\n",
    "axes[0].text(-2, 2.5, \"6\", size=22, bbox=dict(boxstyle=\"circle\",ec='k',fc='w',))\n",
    "axes[0].text(1.3, 0.9, \"4\", size=22, bbox=dict(boxstyle=\"circle\",ec='k',fc='w',))\n",
    "axes[0].text(-0.73, 0.50, \"5\", size=22, bbox=dict(boxstyle=\"circle\",ec='k',fc='w',))\n",
    "axes[0].text(3.28, 1.18, \"1\", size=22, bbox=dict(boxstyle=\"circle\",ec='k',fc='w',))\n",
    "axes[0].text(-2, -1.4, \"3\", size=22, bbox=dict(boxstyle=\"circle\",ec='k',fc='w',))\n",
    "axes[0].text(0.55, -1.8, \"2\", size=22, bbox=dict(boxstyle=\"circle\",ec='k',fc='w',))\n",
    "axes[0].scatter(centroids[:, 0], centroids[:, 1], marker='x', s=200, color='k')\n",
    "axes[0].set_title('(a). with quadrangle coefficients', fontsize=19)\n",
    "axes[0].set_xticks(())\n",
    "axes[0].set_yticks(())\n",
    "\n",
    "# bottom figure\n",
    "axes[1].imshow(Z_2, interpolation='nearest',\n",
    "           extent=(xx_2.min(), xx_2.max(), yy_2.min(), yy_2.max()),\n",
    "           cmap='summer',\n",
    "           aspect='auto', origin='lower')\n",
    "axes[1].plot(tag_fw_2[:, 0], tag_fw_2[:, 1], 's', markersize=9, color=\"blue\", label=\"FW\")\n",
    "axes[1].plot(tag_soc_2[:, 0], tag_soc_2[:, 1], '>', markersize=10, color=\"red\", label=\"Soc\")\n",
    "axes[1].plot(tag_ppi_2[:, 0], tag_ppi_2[:, 1], 'D', markersize=9, color=\"blue\", label=\"PPI\")\n",
    "axes[1].plot(tag_cit_2[:, 0], tag_cit_2[:, 1], '<', markersize=10, color=\"red\", label=\"Cit\")\n",
    "axes[1].plot(tag_rd_2[:, 0], tag_rd_2[:, 1], 'd', markersize=11, color=\"blue\", label=\"Rd\")\n",
    "axes[1].plot(tag_qa_2[:, 0], tag_qa_2[:, 1], '^', markersize=10, color=\"red\", label=\"QA\")\n",
    "\n",
    "axes[1].legend(prop={'size': 14}, ncol=2)\n",
    "centroids_2 = kmeans_2.cluster_centers_\n",
    "axes[1].text(3.45, -0.22, \"2\", size=22, bbox=dict(boxstyle=\"circle\",ec='k',fc='w',))\n",
    "axes[1].text(-1.6, 0.4, \"5\", size=22, bbox=dict(boxstyle=\"circle\",ec='k',fc='w',))\n",
    "axes[1].text(-0.25, -0.37, \"3\", size=22, bbox=dict(boxstyle=\"circle\",ec='k',fc='w',))\n",
    "axes[1].text(-0.8, -0.9, \"1\", size=22, bbox=dict(boxstyle=\"circle\",ec='k',fc='w',))\n",
    "axes[1].text(-0, 0.94, \"6\", size=22, bbox=dict(boxstyle=\"circle\",ec='k',fc='w',))\n",
    "axes[1].text(1.58, 0, \"4\", size=22, bbox=dict(boxstyle=\"circle\",ec='k',fc='w',))\n",
    "axes[1].scatter(centroids_2[:, 0], centroids_2[:, 1], marker='x', s=200, color='k')\n",
    "axes[1].set_title('(b). without quadrangle coefficients', fontsize=19)\n",
    "axes[1].set_xticks(())\n",
    "axes[1].set_yticks(())\n",
    "\n",
    "plt.savefig('network_classification.pdf')"
   ]
  },
  {
   "cell_type": "code",
   "execution_count": 983,
   "metadata": {},
   "outputs": [
    {
     "data": {
      "text/plain": [
       "array([1, 1, 4, 5, 5, 5, 3, 3, 3, 3, 5, 5, 2, 2, 6, 6], dtype=int32)"
      ]
     },
     "execution_count": 983,
     "metadata": {},
     "output_type": "execute_result"
    }
   ],
   "source": [
    "kmeans.labels_ + 1"
   ]
  },
  {
   "cell_type": "code",
   "execution_count": 984,
   "metadata": {},
   "outputs": [
    {
     "data": {
      "text/plain": [
       "array([2, 2, 4, 3, 3, 3, 1, 1, 3, 3, 3, 6, 3, 3, 5, 5], dtype=int32)"
      ]
     },
     "execution_count": 984,
     "metadata": {},
     "output_type": "execute_result"
    }
   ],
   "source": [
    "kmeans_2.labels_ + 1"
   ]
  },
  {
   "cell_type": "code",
   "execution_count": 37,
   "metadata": {},
   "outputs": [],
   "source": [
    "tag_fw = reduced_data[:2]\n",
    "tag_soc = reduced_data[2:6]\n",
    "tag_ppi = reduced_data[6:10]\n",
    "tag_cit = reduced_data[10:12]\n",
    "tag_rd = reduced_data[12:14]\n",
    "tag_qa = reduced_data[14:]"
   ]
  },
  {
   "cell_type": "code",
   "execution_count": 38,
   "metadata": {},
   "outputs": [],
   "source": [
    "tag_fw_2 = reduced_data_2[:2]\n",
    "tag_soc_2 = reduced_data_2[2:6]\n",
    "tag_ppi_2 = reduced_data_2[6:10]\n",
    "tag_cit_2 = reduced_data_2[10:12]\n",
    "tag_rd_2 = reduced_data_2[12:14]\n",
    "tag_qa_2 = reduced_data_2[14:]"
   ]
  },
  {
   "cell_type": "code",
   "execution_count": 2,
   "metadata": {},
   "outputs": [],
   "source": [
    "FW_Chesa = nx.read_edgelist(\"datasets/FW-Chesa\", create_using=nx.Graph)\n",
    "FW_Baywet = nx.read_edgelist(\"datasets/FW-Baywet\", create_using=nx.Graph, data = (('weight', float),))\n",
    "FW_Baydry = nx.read_edgelist(\"datasets/FW-Baydry\", create_using=nx.Graph, data = (('weight', float),))\n",
    "FW_LittleRock = nx.read_edgelist(\"datasets/FW-LittleRock\", create_using=nx.Graph)\n",
    "\n",
    "Soc_EmailEu = nx.read_edgelist(\"datasets/Soc-EmailEu\", create_using=nx.Graph, data=(('sec', int),))\n",
    "Soc_Msg = nx.read_edgelist(\"datasets/CollegeMsg\", create_using=nx.Graph, data=(('sec', int),))\n",
    "Soc_Alpha = nx.read_edgelist(\"datasets/BTC-Alpha\", delimiter = ',', create_using=nx.Graph, data=(('weight', int),('sec', int),))\n",
    "Soc_OTC = nx.read_edgelist(\"datasets/BTC-OTC\", delimiter = ',', create_using=nx.Graph, data=(('weight', int),('sec', float),))\n",
    "#Soc_Digg = nx.read_edgelist(\"datasets/Digg-friends\", create_using=nx.Graph, data=(('weight', int), ('sec', int),))#\n",
    "Soc_FB = nx.read_edgelist(\"datasets/Soc-FB\", delimiter = ',', create_using=nx.Graph)\n",
    "Soc_Twitch = nx.read_edgelist(\"datasets/Soc-Twitch-Fr\", delimiter = ',', create_using=nx.Graph)\n",
    "\n",
    "PPI_Stelzl = nx.read_edgelist(\"datasets/HP-Stelzl\", create_using=nx.Graph)\n",
    "PPI_Figeys = nx.read_edgelist(\"datasets/HP-Figeys\", create_using=nx.Graph)\n",
    "PPI_Vidal = nx.read_edgelist(\"datasets/HP-Vidal\", create_using=nx.Graph)\n",
    "PPI_IntAct = nx.read_edgelist(\"datasets/HP-IntAct\", create_using=nx.Graph)\n",
    "\n",
    "Cit_DBLP = nx.read_edgelist(\"datasets/Cit-DBLP\", create_using=nx.Graph, data=(('weight', int),('sec', int),))\n",
    "Cit_Cora = nx.read_edgelist(\"datasets/Cit-Cora\", create_using=nx.Graph)\n",
    "Cit_HepPh = nx.read_edgelist(\"datasets/Cit-HepPh\", create_using=nx.Graph)\n",
    "Cit_HepTh = nx.read_edgelist(\"datasets/Cit-HepTh\", create_using=nx.Graph)\n",
    "\n",
    "#FLT_USAirpot = nx.read_edgelist(\"datasets/FLT-USAirport\", create_using=nx.Graph, data=(('weight', int),))\n",
    "#FLT_Opsahl = nx.read_edgelist(\"datasets/FLT-Opsahl\", create_using=nx.Graph)\n",
    "Road_NY = nx.read_edgelist(\"datasets/Road-NY\", create_using=nx.Graph)\n",
    "Road_Bay = nx.read_edgelist(\"datasets/Road-BayArea\", create_using=nx.Graph)\n",
    "#Road_Col = nx.read_edgelist(\"datasets/Road-Colorado\", create_using=nx.Graph)\n",
    "\n",
    "QA_Math = nx.read_edgelist(\"datasets/QA-MathOvfl-a2q\", create_using=nx.Graph, data=(('sec', int),))\n",
    "QA_Ubuntu = nx.read_edgelist(\"datasets/QA-AskUbuntu-a2q\", create_using=nx.Graph, data=(('sec', int),))\n",
    "#QA_Superuser = nx.read_edgelist(\"datasets/QA-Superuser-a2q\", create_using=nx.Graph, data=(('sec', int),))"
   ]
  },
  {
   "cell_type": "code",
   "execution_count": 3,
   "metadata": {},
   "outputs": [
    {
     "ename": "FileNotFoundError",
     "evalue": "[Errno 2] No such file or directory: 'network_info/Cit_DBLP.txt'",
     "output_type": "error",
     "traceback": [
      "\u001b[0;31m---------------------------------------------------------------------------\u001b[0m",
      "\u001b[0;31mFileNotFoundError\u001b[0m                         Traceback (most recent call last)",
      "\u001b[0;32m<ipython-input-3-13507ed2da3b>\u001b[0m in \u001b[0;36m<module>\u001b[0;34m\u001b[0m\n\u001b[0;32m----> 1\u001b[0;31m \u001b[0mcit_info_1\u001b[0m \u001b[0;34m=\u001b[0m \u001b[0mnx\u001b[0m\u001b[0;34m.\u001b[0m\u001b[0mget_network_info\u001b[0m\u001b[0;34m(\u001b[0m\u001b[0mCit_DBLP\u001b[0m\u001b[0;34m,\u001b[0m \u001b[0mfilename\u001b[0m\u001b[0;34m=\u001b[0m\u001b[0;34m\"network_info/Cit_DBLP.txt\"\u001b[0m\u001b[0;34m)\u001b[0m\u001b[0;34m\u001b[0m\u001b[0;34m\u001b[0m\u001b[0m\n\u001b[0m\u001b[1;32m      2\u001b[0m \u001b[0mcit_info_2\u001b[0m \u001b[0;34m=\u001b[0m \u001b[0mnx\u001b[0m\u001b[0;34m.\u001b[0m\u001b[0mget_network_info\u001b[0m\u001b[0;34m(\u001b[0m\u001b[0mCit_Cora\u001b[0m\u001b[0;34m,\u001b[0m \u001b[0mfilename\u001b[0m\u001b[0;34m=\u001b[0m\u001b[0;34m\"network_info/Cit_Cora.txt\"\u001b[0m\u001b[0;34m)\u001b[0m\u001b[0;34m\u001b[0m\u001b[0;34m\u001b[0m\u001b[0m\n\u001b[1;32m      3\u001b[0m \u001b[0mcit_info_3\u001b[0m \u001b[0;34m=\u001b[0m \u001b[0mnx\u001b[0m\u001b[0;34m.\u001b[0m\u001b[0mget_network_info\u001b[0m\u001b[0;34m(\u001b[0m\u001b[0mCit_HepPh\u001b[0m\u001b[0;34m,\u001b[0m \u001b[0mfilename\u001b[0m\u001b[0;34m=\u001b[0m\u001b[0;34m\"network_info/Cit_HepPh.txt\"\u001b[0m\u001b[0;34m)\u001b[0m\u001b[0;34m\u001b[0m\u001b[0;34m\u001b[0m\u001b[0m\n\u001b[1;32m      4\u001b[0m \u001b[0mcit_info_4\u001b[0m \u001b[0;34m=\u001b[0m \u001b[0mnx\u001b[0m\u001b[0;34m.\u001b[0m\u001b[0mget_network_info\u001b[0m\u001b[0;34m(\u001b[0m\u001b[0mCit_HepTh\u001b[0m\u001b[0;34m,\u001b[0m \u001b[0mfilename\u001b[0m\u001b[0;34m=\u001b[0m\u001b[0;34m\"network_info/Cit_HepTh.txt\"\u001b[0m\u001b[0;34m)\u001b[0m\u001b[0;34m\u001b[0m\u001b[0;34m\u001b[0m\u001b[0m\n",
      "\u001b[0;32m~/anaconda3/lib/python3.8/site-packages/networkx-2.5rc1.dev20200422050417-py3.8.egg/networkx/patterns_evaluation.py\u001b[0m in \u001b[0;36mget_network_info\u001b[0;34m(G, filename, weight)\u001b[0m\n\u001b[1;32m     14\u001b[0m     \u001b[0miquad\u001b[0m\u001b[0;34m,\u001b[0m \u001b[0moquad\u001b[0m \u001b[0;34m=\u001b[0m \u001b[0mnx\u001b[0m\u001b[0;34m.\u001b[0m\u001b[0maverage_inner_and_outer_quad_co\u001b[0m\u001b[0;34m(\u001b[0m\u001b[0mG\u001b[0m\u001b[0;34m,\u001b[0m \u001b[0mweight\u001b[0m\u001b[0;34m=\u001b[0m\u001b[0mweight\u001b[0m\u001b[0;34m)\u001b[0m\u001b[0;34m\u001b[0m\u001b[0;34m\u001b[0m\u001b[0m\n\u001b[1;32m     15\u001b[0m     \u001b[0;32mif\u001b[0m \u001b[0mfilename\u001b[0m\u001b[0;34m:\u001b[0m\u001b[0;34m\u001b[0m\u001b[0;34m\u001b[0m\u001b[0m\n\u001b[0;32m---> 16\u001b[0;31m         \u001b[0;32mwith\u001b[0m \u001b[0mopen\u001b[0m\u001b[0;34m(\u001b[0m\u001b[0mfilename\u001b[0m\u001b[0;34m,\u001b[0m \u001b[0;34m'w'\u001b[0m\u001b[0;34m)\u001b[0m \u001b[0;32mas\u001b[0m \u001b[0mf\u001b[0m\u001b[0;34m:\u001b[0m\u001b[0;34m\u001b[0m\u001b[0;34m\u001b[0m\u001b[0m\n\u001b[0m\u001b[1;32m     17\u001b[0m             \u001b[0mf\u001b[0m\u001b[0;34m.\u001b[0m\u001b[0mwrite\u001b[0m\u001b[0;34m(\u001b[0m\u001b[0;34m\"|V|:      %d\\n\"\u001b[0m \u001b[0;34m%\u001b[0m \u001b[0mn\u001b[0m\u001b[0;34m)\u001b[0m\u001b[0;34m\u001b[0m\u001b[0;34m\u001b[0m\u001b[0m\n\u001b[1;32m     18\u001b[0m             \u001b[0mf\u001b[0m\u001b[0;34m.\u001b[0m\u001b[0mwrite\u001b[0m\u001b[0;34m(\u001b[0m\u001b[0;34m\"|E|:      %d\\n\"\u001b[0m \u001b[0;34m%\u001b[0m \u001b[0mm\u001b[0m\u001b[0;34m)\u001b[0m\u001b[0;34m\u001b[0m\u001b[0;34m\u001b[0m\u001b[0m\n",
      "\u001b[0;31mFileNotFoundError\u001b[0m: [Errno 2] No such file or directory: 'network_info/Cit_DBLP.txt'"
     ]
    }
   ],
   "source": [
    "cit_info_1 = nx.get_network_info(Cit_DBLP, filename=\"network_info/Cit_DBLP.txt\")\n",
    "cit_info_2 = nx.get_network_info(Cit_Cora, filename=\"network_info/Cit_Cora.txt\")\n",
    "cit_info_3 = nx.get_network_info(Cit_HepPh, filename=\"network_info/Cit_HepPh.txt\")\n",
    "cit_info_4 = nx.get_network_info(Cit_HepTh, filename=\"network_info/Cit_HepTh.txt\")"
   ]
  },
  {
   "cell_type": "code",
   "execution_count": null,
   "metadata": {},
   "outputs": [],
   "source": [
    "# nx.get_network_info(FLT_USAirpot, filename=\"network_info/FLT_USAirpot.txt\")\n",
    "# nx.get_network_info(FLT_Opsahl, filename=\"network_info/FLT_Opsahl.txt\")\n",
    "rd_info_1 = nx.get_network_info(Road_NY, filename=\"network_info/Road_NY.txt\")\n",
    "rd_info_2 = nx.get_network_info(Road_Bay, filename=\"network_info/Road_Bay.txt\")\n",
    "# nx.get_network_info(Road_Col, filename=\"network_info/Road_Col.txt\")"
   ]
  },
  {
   "cell_type": "code",
   "execution_count": null,
   "metadata": {},
   "outputs": [],
   "source": [
    "fw_info_1 = nx.get_network_info(FW_Chesa, filename=\"network_info/FW_Chesa.txt\")\n",
    "fw_info_2 = nx.get_network_info(FW_Baywet, filename=\"network_info/FW_Baywet.txt\")\n",
    "fw_info_3 = nx.get_network_info(FW_Baydry, filename=\"network_info/FW_Baydry.txt\")\n",
    "fw_info_4 = nx.get_network_info(FW_LittleRock, filename=\"network_info/FW_LittleRock.txt\")"
   ]
  },
  {
   "cell_type": "code",
   "execution_count": null,
   "metadata": {},
   "outputs": [],
   "source": [
    "soc_info_1 = nx.get_network_info(Soc_EmailEu, filename=\"network_info/Soc_EmailEu.txt\")\n",
    "soc_info_2 = nx.get_network_info(Soc_Msg, filename=\"network_info/Soc_Msg.txt\")\n",
    "soc_info_3 = nx.get_network_info(Soc_Alpha, filename=\"network_info/Soc_Alpha.txt\")\n",
    "soc_info_4 = nx.get_network_info(Soc_OTC, filename=\"network_info/Soc_OTC.txt\")\n",
    "soc_info_5 = nx.get_network_info(Soc_Twitch, filename=\"network_info/Soc_Twitch.txt\")\n",
    "soc_info_6 = nx.get_network_info(Soc_FB, filename=\"network_info/Soc_FB.txt\")\n",
    "\n",
    "# nx.get_network_info(Soc_Digg, filename=\"network_info/Soc_Digg.txt\")"
   ]
  },
  {
   "cell_type": "code",
   "execution_count": null,
   "metadata": {},
   "outputs": [],
   "source": [
    "ppi_info_1 = nx.get_network_info(PPI_Stelzl, filename=\"network_info/PPI_Stelzl.txt\")\n",
    "ppi_info_2 = nx.get_network_info(PPI_Figeys, filename=\"network_info/PPI_Figeys.txt\")\n",
    "ppi_info_3 = nx.get_network_info(PPI_Vidal, filename=\"network_info/PPI_Vidal.txt\")\n",
    "ppi_info_4 = nx.get_network_info(PPI_IntAct, filename=\"network_info/PPI_IntAct.txt\")"
   ]
  },
  {
   "cell_type": "code",
   "execution_count": null,
   "metadata": {},
   "outputs": [],
   "source": [
    "qa_info_1 = nx.get_network_info(QA_Math, filename=\"network_info/QA_Math.txt\")\n",
    "# nx.get_network_info(QA_Superuser, filename=\"network_info/QA_Superuser.txt\")\n",
    "qa_info_2 = nx.get_network_info(QA_Ubuntu, filename=\"network_info/QA_Ubuntu.txt\")"
   ]
  },
  {
   "cell_type": "code",
   "execution_count": null,
   "metadata": {},
   "outputs": [],
   "source": []
  }
 ],
 "metadata": {
  "kernelspec": {
   "display_name": "Python 3",
   "language": "python",
   "name": "python3"
  },
  "language_info": {
   "codemirror_mode": {
    "name": "ipython",
    "version": 3
   },
   "file_extension": ".py",
   "mimetype": "text/x-python",
   "name": "python",
   "nbconvert_exporter": "python",
   "pygments_lexer": "ipython3",
   "version": "3.8.3"
  }
 },
 "nbformat": 4,
 "nbformat_minor": 4
}
