{
 "cells": [
  {
   "cell_type": "code",
   "execution_count": null,
   "metadata": {},
   "outputs": [],
   "source": [
    "import networkx as nx"
   ]
  },
  {
   "cell_type": "code",
   "execution_count": null,
   "metadata": {},
   "outputs": [],
   "source": [
    "FW_Chesa = nx.read_edgelist(\"datasets/FW-Chesa\", create_using=nx.Graph)\n",
    "FW_Baywet = nx.read_edgelist(\"datasets/FW-Baywet\", create_using=nx.Graph, data = (('weight', float),))\n",
    "FW_Baydry = nx.read_edgelist(\"datasets/FW-Baydry\", create_using=nx.Graph, data = (('weight', float),))\n",
    "FW_LittleRock = nx.read_edgelist(\"datasets/FW-LittleRock\", create_using=nx.Graph)\n",
    "\n",
    "Soc_EmailEu = nx.read_edgelist(\"datasets/Soc-EmailEu\", create_using=nx.Graph, data=(('sec', int),))\n",
    "Soc_Msg = nx.read_edgelist(\"datasets/CollegeMsg\", create_using=nx.Graph, data=(('sec', int),))\n",
    "Soc_Alpha = nx.read_edgelist(\"datasets/BTC-Alpha\", delimiter = ',', create_using=nx.Graph, data=(('weight', int),('sec', int),))\n",
    "Soc_OTC = nx.read_edgelist(\"datasets/BTC-OTC\", delimiter = ',', create_using=nx.Graph, data=(('weight', int),('sec', float),))\n",
    "Soc_FB = nx.read_edgelist(\"datasets/Soc-FB\", delimiter = ',', create_using=nx.Graph)\n",
    "Soc_Git = nx.read_edgelist(\"datasets/Soc-Git\", delimiter = ',', create_using=nx.Graph)\n",
    "Soc_Twitch = nx.read_edgelist(\"datasets/Soc-Twitch-Fr\", delimiter = ',', create_using=nx.Graph)\n",
    "\n",
    "PPI_Stelzl = nx.read_edgelist(\"datasets/HP-Stelzl\", create_using=nx.Graph)\n",
    "PPI_Figeys = nx.read_edgelist(\"datasets/HP-Figeys\", create_using=nx.Graph)\n",
    "PPI_Vidal = nx.read_edgelist(\"datasets/HP-Vidal\", create_using=nx.Graph)\n",
    "PPI_IntAct = nx.read_edgelist(\"datasets/HP-IntAct\", create_using=nx.Graph)\n",
    "\n",
    "Cit_DBLP = nx.read_edgelist(\"datasets/Cit-DBLP\", create_using=nx.Graph, data=(('weight', int),('sec', int),))\n",
    "Cit_Cora = nx.read_edgelist(\"datasets/Cit-Cora\", create_using=nx.Graph)\n",
    "Cit_HepTh = nx.read_edgelist(\"datasets/Cit-HepTh\", create_using=nx.Graph)\n",
    "Cit_HepPh = nx.read_edgelist(\"datasets/Cit-HepPh\", create_using=nx.Graph)\n",
    "\n",
    "Road_NY = nx.read_edgelist(\"datasets/Road-NY\", create_using=nx.Graph)\n",
    "Road_Bay = nx.read_edgelist(\"datasets/Road-BayArea\", create_using=nx.Graph)\n",
    "Road_Col = nx.read_edgelist(\"datasets/Road-Colorado\", create_using=nx.Graph)\n",
    "\n",
    "QA_Math = nx.read_edgelist(\"datasets/QA-MathOvfl-a2q\", create_using=nx.Graph, data=(('sec', int),))\n",
    "QA_Superuser = nx.read_edgelist(\"datasets/QA-Superuser-a2q\", create_using=nx.Graph, data=(('sec', int),))\n",
    "QA_Ubuntu = nx.read_edgelist(\"datasets/QA-AskUbuntu-a2q\", create_using=nx.Graph, data=(('sec', int),))\n",
    "QA_Ubuntu_c2q = nx.read_edgelist(\"datasets/QA-AskUbuntu-c2q\", create_using=nx.Graph, data=(('sec', int),))"
   ]
  },
  {
   "cell_type": "code",
   "execution_count": null,
   "metadata": {},
   "outputs": [],
   "source": [
    "# FW\n",
    "nx.link_pred_supervised_learning(FW_Baydry, filename=\"link_pred_results/FW-Baydry.txt\", repeat=100)\n",
    "nx.link_pred_supervised_learning(FW_LittleRock, filename=\"link_pred_results/FW-LittleRock.txt\", repeat=100)"
   ]
  },
  {
   "cell_type": "code",
   "execution_count": null,
   "metadata": {},
   "outputs": [],
   "source": [
    "# Soc\n",
    "nx.link_pred_supervised_learning(Soc_EmailEu, filename=\"link_pred_results/Soc-EmailEu.txt\", repeat=1)\n",
    "nx.link_pred_supervised_learning(Soc_Msg, filename=\"link_pred_results/Soc-Msg.txt\", repeat=1)\n",
    "nx.link_pred_supervised_learning(Soc_Alpha, filename=\"link_pred_results/Soc-Alpha.txt\", repeat=1)\n",
    "nx.link_pred_supervised_learning(Soc_Twitch, print_on=True, filename=\"link_pred_results/Soc-Twitch.txt\", repeat=100)"
   ]
  },
  {
   "cell_type": "code",
   "execution_count": null,
   "metadata": {},
   "outputs": [],
   "source": [
    "# PPI\n",
    "nx.link_pred_supervised_learning(PPI_Stelzl, filename=\"link_pred_results/PPI-Stelzl.txt\", repeat=100)\n",
    "nx.link_pred_supervised_learning(PPI_Figeys, filename=\"link_pred_results/PPI-Figeys.txt\", repeat=100)\n",
    "nx.link_pred_supervised_learning(PPI_Vidal, filename=\"link_pred_results/PPI-Vidal.txt\", repeat=100)\n",
    "nx.link_pred_supervised_learning(PPI_IntAct, filename=\"link_pred_results/PPI-IntAct.txt\", repeat=100)"
   ]
  },
  {
   "cell_type": "code",
   "execution_count": null,
   "metadata": {},
   "outputs": [],
   "source": [
    "# Cit\n",
    "nx.link_pred_supervised_learning(Cit_DBLP, filename=\"link_pred_results/Cit-DBLP.txt\",sample_time=10, repeat=1)\n",
    "nx.link_pred_supervised_learning(Cit_Cora, filename=\"link_pred_results/Cit-Cora.txt\", print_on=True, sample_time=4, repeat=100)"
   ]
  },
  {
   "cell_type": "code",
   "execution_count": null,
   "metadata": {},
   "outputs": [],
   "source": [
    "# Rd\n",
    "nx.link_pred_supervised_learning(Road_NY, filename=\"link_pred_results/Road_NY.txt\", sample_time=10, repeat=100)\n",
    "nx.link_pred_supervised_learning(Road_Bay, print_on=True, filename=\"link_pred_results/Road_Bay.txt\", sample_time=10, repeat=100)"
   ]
  },
  {
   "cell_type": "code",
   "execution_count": null,
   "metadata": {},
   "outputs": [],
   "source": [
    "# QA\n",
    "res = nx.link_pred_supervised_learning(QA_Math, print_on=True, filename=\"link_pred_results/QA-Math.txt\", sample_time=10, repeat=1)\n",
    "nx.link_pred_supervised_learning(QA_Ubuntu, filename=\"link_pred_results/QA-Ubuntu.txt\", sample_time=10, repeat=1)"
   ]
  }
 ],
 "metadata": {
  "kernelspec": {
   "display_name": "Python 3",
   "language": "python",
   "name": "python3"
  },
  "language_info": {
   "codemirror_mode": {
    "name": "ipython",
    "version": 3
   },
   "file_extension": ".py",
   "mimetype": "text/x-python",
   "name": "python",
   "nbconvert_exporter": "python",
   "pygments_lexer": "ipython3",
   "version": "3.7.6"
  }
 },
 "nbformat": 4,
 "nbformat_minor": 4
}
