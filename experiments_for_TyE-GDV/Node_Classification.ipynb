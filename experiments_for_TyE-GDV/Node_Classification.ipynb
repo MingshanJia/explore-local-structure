{
 "cells": [
  {
   "cell_type": "markdown",
   "metadata": {},
   "source": [
    "### Classification based on 4 GCPS Levels"
   ]
  },
  {
   "cell_type": "code",
   "execution_count": 1,
   "metadata": {},
   "outputs": [],
   "source": [
    "import networkx as nx\n",
    "import pandas as pd\n",
    "import glob \n",
    "import numpy as np\n",
    "import matplotlib.pyplot as plt\n",
    "import seaborn as sns\n",
    "from sklearn.model_selection import StratifiedKFold\n",
    "from sklearn.model_selection import RepeatedStratifiedKFold\n",
    "from sklearn.model_selection import cross_val_score\n",
    "from sklearn.metrics import confusion_matrix\n",
    "from sklearn.ensemble import RandomForestClassifier\n",
    "from sklearn import metrics\n",
    "from sklearn.dummy import DummyClassifier\n",
    "from sklearn.preprocessing import StandardScaler\n",
    "from sklearn.dummy import DummyClassifier\n",
    "from tqdm import tqdm"
   ]
  },
  {
   "cell_type": "markdown",
   "metadata": {},
   "source": [
    "### Clean data : patient characteristics"
   ]
  },
  {
   "cell_type": "code",
   "execution_count": 2,
   "metadata": {},
   "outputs": [],
   "source": [
    "df_char = pd.read_csv(\"data/char_cleaned.csv\")"
   ]
  },
  {
   "cell_type": "code",
   "execution_count": 3,
   "metadata": {},
   "outputs": [],
   "source": [
    "def get_X_struct(structure_type):\n",
    "    X_struct = []\n",
    "    for index, row in df_char.iterrows():\n",
    "        node_id = row['token']\n",
    "        filename = 'Ego_networks/' + node_id + '.csv'\n",
    "        G = nx.read_edgelist(filename, delimiter=',', create_using=nx.Graph, data = (('edge_type', str),))\n",
    "        if (structure_type == \"GDV\"):\n",
    "            dic = nx.induced_graphlet_degree_vector_ego(G, node_id)\n",
    "            X_struct.append(dic[node_id])\n",
    "        if (structure_type == \"TyEGDV\"):\n",
    "            dic = nx.typed_edge_induced_graphlet_degree_vector_ego(G, num_type=13, nodes=node_id)\n",
    "            X_struct.append([j for sub in dic[node_id] for j in sub]) \n",
    "    return np.array(X_struct)\n",
    "    "
   ]
  },
  {
   "cell_type": "code",
   "execution_count": 4,
   "metadata": {},
   "outputs": [
    {
     "name": "stdout",
     "output_type": "stream",
     "text": [
      "(303, 7)\n",
      "(303, 91)\n"
     ]
    }
   ],
   "source": [
    "# prepare structural features\n",
    "X_GDV = get_X_struct(\"GDV\")\n",
    "X_TyEGDV = get_X_struct(\"TyEGDV\")\n",
    "print(np.shape(X_GDV))\n",
    "print(np.shape(X_TyEGDV))"
   ]
  },
  {
   "cell_type": "code",
   "execution_count": 5,
   "metadata": {},
   "outputs": [
    {
     "name": "stdout",
     "output_type": "stream",
     "text": [
      "(303, 24)\n"
     ]
    }
   ],
   "source": [
    "# all raw features\n",
    "X_char = df_char.drop([\"token\", \"GCPS_GRADE\"], axis=1).to_numpy()\n",
    "print(np.shape(X_char))\n",
    "\n",
    "y = df_char['GCPS_GRADE'].to_numpy()"
   ]
  },
  {
   "cell_type": "code",
   "execution_count": 6,
   "metadata": {},
   "outputs": [
    {
     "name": "stdout",
     "output_type": "stream",
     "text": [
      "(303, 31)\n",
      "(303, 115)\n"
     ]
    }
   ],
   "source": [
    "X_combined_GDV = np.concatenate((X_char, X_GDV),axis=1)\n",
    "X_combined_TyEGDV = np.concatenate((X_char, X_TyEGDV),axis=1)\n",
    "print(np.shape(X_combined_GDV))\n",
    "print(np.shape(X_combined_TyEGDV))"
   ]
  },
  {
   "cell_type": "code",
   "execution_count": 7,
   "metadata": {},
   "outputs": [],
   "source": [
    "scaler = StandardScaler().fit(X_char)\n",
    "X_char_scaled = scaler.transform(X_char)\n",
    "\n",
    "scaler = StandardScaler().fit(X_combined_GDV)\n",
    "X_combined_GDV_scaled = scaler.transform(X_combined_GDV)\n",
    "\n",
    "scaler = StandardScaler().fit(X_combined_TyEGDV)\n",
    "X_combined_TyEGDV_scaled = scaler.transform(X_combined_TyEGDV)"
   ]
  },
  {
   "cell_type": "markdown",
   "metadata": {},
   "source": [
    "### Average result"
   ]
  },
  {
   "cell_type": "code",
   "execution_count": 8,
   "metadata": {},
   "outputs": [],
   "source": [
    "def average_score_classification(clf, X, y, cv, repeat=100):\n",
    "    res = 0 \n",
    "    for i in tqdm(range(repeat)):  \n",
    "        temp = cross_val_score(clf, X, y, cv=cv, scoring=\"f1_macro\")\n",
    "        res += np.mean(temp)\n",
    "    return res/repeat"
   ]
  },
  {
   "cell_type": "code",
   "execution_count": 9,
   "metadata": {},
   "outputs": [],
   "source": [
    "skf = StratifiedKFold(n_splits=5)\n",
    "clf_rf =  RandomForestClassifier(n_estimators=20, max_features=None, bootstrap=False, min_samples_leaf=2, min_samples_split=5)"
   ]
  },
  {
   "cell_type": "code",
   "execution_count": 11,
   "metadata": {},
   "outputs": [
    {
     "name": "stderr",
     "output_type": "stream",
     "text": [
      "100%|██████████| 500/500 [01:56<00:00,  4.28it/s]\n",
      "100%|██████████| 500/500 [02:18<00:00,  3.60it/s]\n",
      "100%|██████████| 500/500 [04:13<00:00,  1.97it/s]\n"
     ]
    }
   ],
   "source": [
    "score_char = average_score_classification(clf_rf, X_char_scaled, y, skf, repeat=500)\n",
    "score_char_GDV = average_score_classification(clf_rf, X_combined_GDV_scaled, y, skf, repeat=500)\n",
    "score_char_TyEGDV = average_score_classification(clf_rf, X_combined_TyEGDV_scaled, y, skf, repeat=500)"
   ]
  },
  {
   "cell_type": "code",
   "execution_count": 12,
   "metadata": {},
   "outputs": [
    {
     "name": "stdout",
     "output_type": "stream",
     "text": [
      "Char:           0.578\n",
      "Char + GDV:     0.597\n",
      "Char + TyEGDV:  0.618\n"
     ]
    }
   ],
   "source": [
    "print(\"Char:           {:.3f}\".format(score_char))\n",
    "print(\"Char + GDV:     {:.3f}\".format(score_char_GDV))\n",
    "print(\"Char + TyEGDV:  {:.3f}\".format(score_char_TyEGDV)) "
   ]
  },
  {
   "cell_type": "code",
   "execution_count": 20,
   "metadata": {},
   "outputs": [
    {
     "name": "stderr",
     "output_type": "stream",
     "text": [
      "100%|██████████| 100/100 [00:00<00:00, 151.07it/s]"
     ]
    },
    {
     "name": "stdout",
     "output_type": "stream",
     "text": [
      "0.21314513130945978\n"
     ]
    },
    {
     "name": "stderr",
     "output_type": "stream",
     "text": [
      "\n"
     ]
    }
   ],
   "source": [
    "# dummy classifier as baseline\n",
    "clf_dummy = DummyClassifier(strategy='uniform')\n",
    "print(average_score_classification(clf_dummy, X_char_scaled, y, skf))"
   ]
  },
  {
   "cell_type": "code",
   "execution_count": null,
   "metadata": {},
   "outputs": [],
   "source": [
    "def average_confusion_matrix(X, y, clf, cv, repeat=100):\n",
    "    matrices_all = np.zeros((4,4), dtype=int)\n",
    "    for n in tqdm(range(repeat)):\n",
    "        for train_index, test_index in cv.split(X, y):\n",
    "            X_train, X_test = X[train_index], X[test_index]\n",
    "            y_train, y_test = y[train_index], y[test_index]\n",
    "            clf.fit(X_train, y_train)\n",
    "            y_pred = clf.predict(X_test)\n",
    "            matrix = confusion_matrix(y_test, y_pred)\n",
    "            matrices_all += matrix\n",
    "    matrix_avg = matrices_all / (repeat * 5)\n",
    "    print(\"Average Confusion Matrix: \\n {}\\n\".format(matrix_avg))\n",
    "    return matrix_avg"
   ]
  },
  {
   "cell_type": "code",
   "execution_count": null,
   "metadata": {},
   "outputs": [],
   "source": [
    "average_confusion_matrix(X_char_scaled, y, clf_rf, skf)\n",
    "average_confusion_matrix(X_combined_GDV_scaled, y, clf_rf, skf)\n",
    "average_confusion_matrix(X_combined_TyEGDV_scaled, y, clf_rf, skf)"
   ]
  },
  {
   "cell_type": "markdown",
   "metadata": {},
   "source": [
    "The performance is only comparable to random guess.\n",
    "__TyE-GDV__ has several times more features than __GDV__, the performance on training set is significanly improved, to almost perfect. (However, on test set, it performs worse due to overfitting.)"
   ]
  }
 ],
 "metadata": {
  "kernelspec": {
   "display_name": "Python 3",
   "language": "python",
   "name": "python3"
  },
  "language_info": {
   "codemirror_mode": {
    "name": "ipython",
    "version": 3
   },
   "file_extension": ".py",
   "mimetype": "text/x-python",
   "name": "python",
   "nbconvert_exporter": "python",
   "pygments_lexer": "ipython3",
   "version": "3.8.5"
  }
 },
 "nbformat": 4,
 "nbformat_minor": 4
}
