{
 "cells": [
  {
   "cell_type": "markdown",
   "metadata": {},
   "source": [
    "### Classification based on 4 GCPS Levels"
   ]
  },
  {
   "cell_type": "code",
   "execution_count": 1,
   "metadata": {},
   "outputs": [],
   "source": [
    "import networkx as nx\n",
    "import pandas as pd\n",
    "import glob \n",
    "import numpy as np\n",
    "import matplotlib.pyplot as plt\n",
    "import seaborn as sns\n",
    "from sklearn.model_selection import StratifiedKFold\n",
    "from sklearn.model_selection import RepeatedStratifiedKFold\n",
    "from sklearn.model_selection import cross_val_score\n",
    "from sklearn.metrics import confusion_matrix\n",
    "from sklearn.ensemble import RandomForestClassifier\n",
    "from sklearn import metrics\n",
    "from sklearn.dummy import DummyClassifier\n",
    "from sklearn.preprocessing import StandardScaler\n",
    "from sklearn.dummy import DummyClassifier\n",
    "from pprint import pprint\n",
    "from sklearn.model_selection import RandomizedSearchCV\n",
    "from sklearn.model_selection import GridSearchCV\n",
    "from tqdm import tqdm"
   ]
  },
  {
   "cell_type": "code",
   "execution_count": 2,
   "metadata": {},
   "outputs": [],
   "source": [
    "# in order to computer later, view None value as 0\n",
    "def process_none_value(dic):\n",
    "    assert (len(dic) == 1)\n",
    "    for i in dic:\n",
    "        for v in range(len(dic[i])):\n",
    "            if (dic[i][v] == None):\n",
    "                dic[i][v] = 0"
   ]
  },
  {
   "cell_type": "markdown",
   "metadata": {},
   "source": [
    "### Clean data : patient characteristics"
   ]
  },
  {
   "cell_type": "code",
   "execution_count": 3,
   "metadata": {},
   "outputs": [],
   "source": [
    "df_char = pd.read_csv(\"data/char_cleaned.csv\")"
   ]
  },
  {
   "cell_type": "code",
   "execution_count": 16,
   "metadata": {},
   "outputs": [],
   "source": [
    "def get_X_struct(structure_type):\n",
    "    X_struct = []\n",
    "    for index, row in df_char.iterrows():\n",
    "        node_id = row['token']\n",
    "        filename = 'Ego_networks/' + node_id + '.csv'\n",
    "        G = nx.read_edgelist(filename, delimiter=',', create_using=nx.Graph, data = (('edge_type', str),))\n",
    "        if (structure_type == \"ECCV\"):\n",
    "            dic = nx.edge_clustering_vector(G, node_id)\n",
    "            process_none_value(dic)\n",
    "            X_struct.append(dic[node_id])\n",
    "        if (structure_type == \"GDV\"):\n",
    "            dic = nx.induced_graphlet_degree_vector_ego(G, node_id)\n",
    "            X_struct.append(dic[node_id])\n",
    "        if (structure_type == \"TyEGDV\"):\n",
    "            dic = nx.typed_edge_induced_graphlet_degree_vector_ego(G, num_type=13, nodes=node_id)\n",
    "            X_struct.append([j for sub in dic[node_id] for j in sub]) \n",
    "        if (structure_type == \"TyEDegree\"):\n",
    "            dic = nx.typed_edge_induced_graphlet_degree_vector_ego(G, num_type=13, nodes=node_id)\n",
    "            X_struct.append(dic[node_id][0]) \n",
    "        if (structure_type == \"ColoredEGDV\"):\n",
    "            dic = nx.colored_ego_graphlet_vector_for_typed_edge(G, num_type=13, nodes=node_id)\n",
    "            X_struct.append(dic[node_id])\n",
    "#         if (structure_type == \"ColoredEGDV2\"):\n",
    "#             dic = nx.colored_ego_graphlet_vector_for_typed_edge_v2(G, num_type=13, nodes=node_id)\n",
    "#            X_struct.append(dic[node_id])\n",
    "        if (structure_type == \"HeteroEGDV\"):\n",
    "            dic = nx.hetero_ego_graphlet_vector_for_typed_edge(G, num_type=13, nodes=node_id)\n",
    "            X_struct.append(dic[node_id])\n",
    "    return np.array(X_struct)"
   ]
  },
  {
   "cell_type": "code",
   "execution_count": 17,
   "metadata": {},
   "outputs": [
    {
     "name": "stdout",
     "output_type": "stream",
     "text": [
      "(303, 13)\n",
      "(303, 7)\n",
      "(303, 91)\n",
      "(303, 13)\n",
      "(303, 12367)\n",
      "(303, 38870)\n"
     ]
    }
   ],
   "source": [
    "# prepare structural features\n",
    "X_ECCV = get_X_struct(\"ECCV\")\n",
    "X_GDV = get_X_struct(\"GDV\")\n",
    "X_TyEGDV = get_X_struct(\"TyEGDV\")\n",
    "X_TyEDegree = get_X_struct(\"TyEDegree\")\n",
    "X_ColoredEGDV = get_X_struct(\"ColoredEGDV\")\n",
    "X_HeteroEGDV = get_X_struct(\"HeteroEGDV\")\n",
    "print(np.shape(X_ECCV))\n",
    "print(np.shape(X_GDV))\n",
    "print(np.shape(X_TyEGDV))\n",
    "print(np.shape(X_TyEDegree))\n",
    "print(np.shape(X_ColoredEGDV))\n",
    "print(np.shape(X_HeteroEGDV))"
   ]
  },
  {
   "cell_type": "code",
   "execution_count": 18,
   "metadata": {},
   "outputs": [
    {
     "name": "stdout",
     "output_type": "stream",
     "text": [
      "(303, 24)\n"
     ]
    }
   ],
   "source": [
    "# all raw features\n",
    "X_char = df_char.drop([\"token\", \"GCPS_GRADE\"], axis=1).to_numpy()\n",
    "print(np.shape(X_char))\n",
    "\n",
    "y = df_char['GCPS_GRADE'].to_numpy()"
   ]
  },
  {
   "cell_type": "code",
   "execution_count": 19,
   "metadata": {},
   "outputs": [
    {
     "name": "stdout",
     "output_type": "stream",
     "text": [
      "(303, 37)\n",
      "(303, 31)\n",
      "(303, 115)\n",
      "(303, 37)\n",
      "(303, 12391)\n",
      "(303, 38894)\n"
     ]
    }
   ],
   "source": [
    "X_combined_ECCV = np.concatenate((X_char, X_ECCV),axis=1)\n",
    "X_combined_GDV = np.concatenate((X_char, X_GDV),axis=1)\n",
    "X_combined_TyEGDV = np.concatenate((X_char, X_TyEGDV),axis=1)\n",
    "X_combined_TyEDegree = np.concatenate((X_char, X_TyEDegree),axis=1)\n",
    "X_combined_ColoredEGDV = np.concatenate((X_char, X_ColoredEGDV),axis=1)\n",
    "X_combined_HeteroEGDV = np.concatenate((X_char, X_HeteroEGDV),axis=1)\n",
    "print(np.shape(X_combined_ECCV))\n",
    "print(np.shape(X_combined_GDV))\n",
    "print(np.shape(X_combined_TyEGDV))\n",
    "print(np.shape(X_combined_TyEDegree))\n",
    "print(np.shape(X_combined_ColoredEGDV))\n",
    "print(np.shape(X_combined_HeteroEGDV))"
   ]
  },
  {
   "cell_type": "code",
   "execution_count": 20,
   "metadata": {},
   "outputs": [],
   "source": [
    "scaler = StandardScaler().fit(X_char)\n",
    "X_char_scaled = scaler.transform(X_char)\n",
    "\n",
    "scaler = StandardScaler().fit(X_combined_ECCV)\n",
    "X_combined_ECCV_scaled = scaler.transform(X_combined_ECCV)\n",
    "\n",
    "scaler = StandardScaler().fit(X_combined_GDV)\n",
    "X_combined_GDV_scaled = scaler.transform(X_combined_GDV)\n",
    "\n",
    "scaler = StandardScaler().fit(X_combined_TyEGDV)\n",
    "X_combined_TyEGDV_scaled = scaler.transform(X_combined_TyEGDV)\n",
    "\n",
    "scaler = StandardScaler().fit(X_combined_TyEDegree)\n",
    "X_combined_TyEDegree_scaled = scaler.transform(X_combined_TyEDegree)\n",
    "\n",
    "scaler = StandardScaler().fit(X_combined_ColoredEGDV)\n",
    "X_combined_ColoredEGDV_scaled = scaler.transform(X_combined_ColoredEGDV)\n",
    "\n",
    "scaler = StandardScaler().fit(X_combined_HeteroEGDV)\n",
    "X_combined_HeteroEGDV_scaled = scaler.transform(X_combined_HeteroEGDV)"
   ]
  },
  {
   "cell_type": "markdown",
   "metadata": {},
   "source": [
    "### Average result"
   ]
  },
  {
   "cell_type": "code",
   "execution_count": 21,
   "metadata": {},
   "outputs": [],
   "source": [
    "def average_score_classification(clf, X, y, cv, repeat=100):\n",
    "    res = 0 \n",
    "    for i in tqdm(range(repeat)):  \n",
    "        temp = cross_val_score(clf, X, y, cv=cv, scoring=\"f1_macro\")\n",
    "        res += np.mean(temp)\n",
    "    return res/repeat"
   ]
  },
  {
   "cell_type": "code",
   "execution_count": 22,
   "metadata": {},
   "outputs": [],
   "source": [
    "def average_score_classification_with_std(clf, X, y, cv, repeat=100):\n",
    "    res = [] \n",
    "    for i in tqdm(range(repeat)):  \n",
    "        temp = cross_val_score(clf, X, y, cv=cv, scoring=\"f1_macro\")\n",
    "        res.append(np.mean(temp))\n",
    "    return np.mean(res), np.std(res)"
   ]
  },
  {
   "cell_type": "code",
   "execution_count": 26,
   "metadata": {},
   "outputs": [],
   "source": [
    "skf = StratifiedKFold(n_splits=5)\n",
    "rskf = RepeatedStratifiedKFold(n_splits=5, n_repeats=5, random_state=0)\n",
    "clf_rf =  RandomForestClassifier(n_estimators=20, max_features=None, bootstrap=False, min_samples_leaf=2, min_samples_split=5)"
   ]
  },
  {
   "cell_type": "code",
   "execution_count": 29,
   "metadata": {},
   "outputs": [
    {
     "name": "stderr",
     "output_type": "stream",
     "text": [
      "100%|██████████| 500/500 [01:57<00:00,  4.26it/s]\n",
      "100%|██████████| 500/500 [02:10<00:00,  3.82it/s]\n",
      "100%|██████████| 500/500 [02:19<00:00,  3.59it/s]\n",
      "100%|██████████| 500/500 [04:11<00:00,  1.99it/s]\n",
      "100%|██████████| 500/500 [34:51<00:00,  4.18s/it]\n",
      "100%|██████████| 500/500 [2:17:10<00:00, 16.46s/it]  \n"
     ]
    }
   ],
   "source": [
    "char_mean, char_std = average_score_classification_with_std(clf_rf, X_char_scaled, y, skf, repeat=500)\n",
    "char_TyEDegree_mean, char_TyEDegree_std = average_score_classification_with_std(clf_rf, X_combined_TyEDegree_scaled, y, skf, repeat=500)\n",
    "char_GDV_mean, char_GDV_std = average_score_classification_with_std(clf_rf, X_combined_GDV_scaled, y, skf, repeat=500)\n",
    "char_TyEGDV_mean, char_TyEGDV_std = average_score_classification_with_std(clf_rf, X_combined_TyEGDV_scaled, y, skf, repeat=500)\n",
    "char_ColoredEGDV_mean, char_ColoredEGDV_std = average_score_classification_with_std(clf_rf, X_combined_ColoredEGDV_scaled, y, skf, repeat=500)\n",
    "char_HeteroEGDV_mean, char_HeteroEGDV_std = average_score_classification_with_std(clf_rf, X_combined_HeteroEGDV_scaled, y, skf, repeat=500)"
   ]
  },
  {
   "cell_type": "code",
   "execution_count": 30,
   "metadata": {},
   "outputs": [
    {
     "name": "stdout",
     "output_type": "stream",
     "text": [
      "Char:              0.578 $\\pm$ 0.0050\n",
      "Char + TyEDegree:  0.600 $\\pm$ 0.0050\n",
      "Char + GDV:        0.597 $\\pm$ 0.0075\n",
      "Char + TyEGDV:     0.619 $\\pm$ 0.0043\n",
      "Char + ColoredEGDV:     0.608 $\\pm$ 0.0061\n",
      "Char + HeteroEGDV:     0.638 $\\pm$ 0.0059\n"
     ]
    }
   ],
   "source": [
    "print(\"Char:              {:.3f} $\\pm$ {:.4f}\".format(char_mean, char_std))\n",
    "print(\"Char + TyEDegree:  {:.3f} $\\pm$ {:.4f}\".format(char_TyEDegree_mean, char_TyEDegree_std))\n",
    "print(\"Char + GDV:        {:.3f} $\\pm$ {:.4f}\".format(char_GDV_mean, char_GDV_std))\n",
    "print(\"Char + TyEGDV:     {:.3f} $\\pm$ {:.4f}\".format(char_TyEGDV_mean, char_TyEGDV_std)) \n",
    "print(\"Char + ColoredEGDV:     {:.3f} $\\pm$ {:.4f}\".format(char_ColoredEGDV_mean, char_ColoredEGDV_std))\n",
    "print(\"Char + HeteroEGDV:     {:.3f} $\\pm$ {:.4f}\".format(char_HeteroEGDV_mean, char_HeteroEGDV_std))"
   ]
  },
  {
   "cell_type": "code",
   "execution_count": null,
   "metadata": {},
   "outputs": [],
   "source": [
    "# dummy classifier as baseline\n",
    "clf_dummy = DummyClassifier(strategy='stratified')\n",
    "dummy_mean, dummy_std = average_score_classification_with_std(clf_dummy, X_char_scaled, y, skf, repeat=500)\n",
    "print(\"Dummy:           {:.3f} $\\pm$ {:.4f}\".format(dummy_mean, dummy_std))"
   ]
  }
 ],
 "metadata": {
  "kernelspec": {
   "display_name": "Python 3",
   "language": "python",
   "name": "python3"
  },
  "language_info": {
   "codemirror_mode": {
    "name": "ipython",
    "version": 3
   },
   "file_extension": ".py",
   "mimetype": "text/x-python",
   "name": "python",
   "nbconvert_exporter": "python",
   "pygments_lexer": "ipython3",
   "version": "3.8.5"
  }
 },
 "nbformat": 4,
 "nbformat_minor": 4
}
