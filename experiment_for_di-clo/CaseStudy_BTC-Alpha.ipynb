{
 "cells": [
  {
   "cell_type": "code",
   "execution_count": 2,
   "metadata": {},
   "outputs": [],
   "source": [
    "import networkx as nx\n",
    "import numpy as np\n",
    "import pandas as pd\n",
    "import seaborn as sns\n",
    "import matplotlib.pyplot as plt\n",
    "import collections\n",
    "%matplotlib inline"
   ]
  },
  {
   "cell_type": "markdown",
   "metadata": {},
   "source": [
    "## Answer Comment 3:"
   ]
  },
  {
   "cell_type": "code",
   "execution_count": 3,
   "metadata": {},
   "outputs": [],
   "source": [
    "def get_degree_count_variance(G, weight):\n",
    "    degree_sequence = sorted([d for n, d in G.degree(weight=weight)])\n",
    "    degree_count = collections.Counter(degree_sequence)\n",
    "    deg, cnt = zip(*degree_count.items())\n",
    "    return deg, cnt, np.var(degree_sequence)"
   ]
  },
  {
   "cell_type": "code",
   "execution_count": 4,
   "metadata": {},
   "outputs": [],
   "source": [
    "Alpha = nx.read_edgelist(\"datasets/BTC-Alpha\", delimiter = ',', create_using=nx.DiGraph, data=(('weight', int),('sec', float),))"
   ]
  },
  {
   "cell_type": "code",
   "execution_count": 5,
   "metadata": {},
   "outputs": [],
   "source": [
    "deg, cnt, var = get_degree_count_variance(Alpha, None)\n",
    "deg_w, cnt_w, var_w = get_degree_count_variance(Alpha, 'weight')"
   ]
  },
  {
   "cell_type": "code",
   "execution_count": 20,
   "metadata": {},
   "outputs": [
    {
     "name": "stdout",
     "output_type": "stream",
     "text": [
      "111.7748344370861\n",
      "117.67588932806323\n"
     ]
    }
   ],
   "source": [
    "print(np.mean(deg))\n",
    "print(np.mean(deg_w))"
   ]
  },
  {
   "cell_type": "code",
   "execution_count": 82,
   "metadata": {},
   "outputs": [
    {
     "name": "stdout",
     "output_type": "stream",
     "text": [
      "1186.1873773547215\n",
      "3693.421703268004\n"
     ]
    }
   ],
   "source": [
    "print(var)\n",
    "print(var_w)"
   ]
  },
  {
   "cell_type": "code",
   "execution_count": null,
   "metadata": {},
   "outputs": [],
   "source": []
  },
  {
   "cell_type": "code",
   "execution_count": 50,
   "metadata": {},
   "outputs": [
    {
     "data": {
      "text/plain": [
       "(395,\n",
       " 1074,\n",
       " 239,\n",
       " 405,\n",
       " 159,\n",
       " 229,\n",
       " 100,\n",
       " 141,\n",
       " 60,\n",
       " 98,\n",
       " 56,\n",
       " 58,\n",
       " 44,\n",
       " 36,\n",
       " 44,\n",
       " 41,\n",
       " 33,\n",
       " 28,\n",
       " 28,\n",
       " 29,\n",
       " 20,\n",
       " 22,\n",
       " 17,\n",
       " 17,\n",
       " 14,\n",
       " 17,\n",
       " 20,\n",
       " 12,\n",
       " 10,\n",
       " 17,\n",
       " 15,\n",
       " 11,\n",
       " 7,\n",
       " 9,\n",
       " 9,\n",
       " 6,\n",
       " 11,\n",
       " 8,\n",
       " 6,\n",
       " 6,\n",
       " 3,\n",
       " 7,\n",
       " 5,\n",
       " 3,\n",
       " 8,\n",
       " 5,\n",
       " 1,\n",
       " 6,\n",
       " 3,\n",
       " 3,\n",
       " 4,\n",
       " 3,\n",
       " 2,\n",
       " 3,\n",
       " 4,\n",
       " 2,\n",
       " 4,\n",
       " 3,\n",
       " 5,\n",
       " 7,\n",
       " 4,\n",
       " 2,\n",
       " 2,\n",
       " 4,\n",
       " 3,\n",
       " 4,\n",
       " 4,\n",
       " 3,\n",
       " 3,\n",
       " 1,\n",
       " 1,\n",
       " 2,\n",
       " 2,\n",
       " 4,\n",
       " 2,\n",
       " 2,\n",
       " 1,\n",
       " 3,\n",
       " 5,\n",
       " 2,\n",
       " 1,\n",
       " 2,\n",
       " 3,\n",
       " 2,\n",
       " 2,\n",
       " 1,\n",
       " 3,\n",
       " 3,\n",
       " 2,\n",
       " 1,\n",
       " 3,\n",
       " 2,\n",
       " 2,\n",
       " 2,\n",
       " 1,\n",
       " 2,\n",
       " 1,\n",
       " 4,\n",
       " 1,\n",
       " 2,\n",
       " 1,\n",
       " 2,\n",
       " 1,\n",
       " 1,\n",
       " 2,\n",
       " 1,\n",
       " 1,\n",
       " 1,\n",
       " 1,\n",
       " 1,\n",
       " 2,\n",
       " 1,\n",
       " 1,\n",
       " 1,\n",
       " 1,\n",
       " 1,\n",
       " 1,\n",
       " 1,\n",
       " 2,\n",
       " 1,\n",
       " 1,\n",
       " 1,\n",
       " 1,\n",
       " 1,\n",
       " 1,\n",
       " 1,\n",
       " 1,\n",
       " 1,\n",
       " 1,\n",
       " 1,\n",
       " 1,\n",
       " 1,\n",
       " 1,\n",
       " 1,\n",
       " 1,\n",
       " 1,\n",
       " 1,\n",
       " 1,\n",
       " 1,\n",
       " 1,\n",
       " 1,\n",
       " 1,\n",
       " 2,\n",
       " 1,\n",
       " 1,\n",
       " 2,\n",
       " 1,\n",
       " 1,\n",
       " 1,\n",
       " 1,\n",
       " 1)"
      ]
     },
     "execution_count": 50,
     "metadata": {},
     "output_type": "execute_result"
    }
   ],
   "source": [
    "cnt"
   ]
  },
  {
   "cell_type": "code",
   "execution_count": 65,
   "metadata": {},
   "outputs": [
    {
     "data": {
      "text/plain": [
       "[10000.0,\n",
       " 2871.7458874925874,\n",
       " 1384.1454884616858,\n",
       " 824.6924442330588,\n",
       " 551.8918645844859,\n",
       " 397.49141141812646,\n",
       " 301.17819624378615,\n",
       " 236.83071351724968,\n",
       " 191.58587332288388,\n",
       " 158.48931924611134,\n",
       " 133.50365836381636,\n",
       " 114.14943260536289,\n",
       " 98.83299717957458,\n",
       " 86.49072464655282,\n",
       " 76.38986344833238,\n",
       " 68.01176275750969,\n",
       " 60.98063487309055,\n",
       " 55.01859438166676,\n",
       " 49.916430119588426,\n",
       " 45.514105075652004,\n",
       " 41.68744415538648,\n",
       " 38.3388581871505,\n",
       " 35.39076050198217,\n",
       " 32.78081636440631,\n",
       " 30.45846301945405,\n",
       " 28.38232531990098,\n",
       " 26.51827222128618,\n",
       " 24.837938280999182,\n",
       " 23.317586890065968,\n",
       " 21.93722762038688,\n",
       " 20.679924606289884,\n",
       " 19.531249999999996,\n",
       " 18.47884864174066,\n",
       " 17.512088741348485,\n",
       " 16.621779629717533,\n",
       " 15.799942215117431,\n",
       " 15.039621157622475,\n",
       " 14.334730291423918,\n",
       " 13.679924715725466,\n",
       " 13.070494407390912,\n",
       " 12.502275302057017,\n",
       " 11.971574631330801,\n",
       " 11.475107954796632,\n",
       " 11.009945833011095,\n",
       " 10.573468485621351,\n",
       " 10.163327092680241,\n",
       " 9.777410646285496,\n",
       " 9.413817458313353,\n",
       " 9.070830589266054,\n",
       " 8.746896591546223,\n",
       " 8.440607064311763,\n",
       " 8.150682601490235,\n",
       " 7.875958783467841,\n",
       " 7.615373919488751,\n",
       " 7.132824711225411,\n",
       " 6.909160155014133,\n",
       " 6.696218425779801,\n",
       " 6.493313615704726,\n",
       " 6.299814320183484,\n",
       " 6.115138489961112,\n",
       " 5.938748844176974,\n",
       " 5.770148775317667,\n",
       " 5.454512709590864,\n",
       " 5.306655759251673,\n",
       " 5.164940884335152,\n",
       " 5.029026882437274,\n",
       " 4.898596148204666,\n",
       " 4.773352729444938,\n",
       " 4.653020568349539,\n",
       " 4.426075845826112,\n",
       " 4.318997020884885,\n",
       " 4.215894417385442,\n",
       " 4.116570276271205,\n",
       " 3.928526754359281,\n",
       " 3.839469621025107,\n",
       " 3.6705146856892115,\n",
       " 3.5903357682982384,\n",
       " 3.4379320214334816,\n",
       " 3.3654716283655666,\n",
       " 3.2953594077720707,\n",
       " 3.2274932695698157,\n",
       " 3.1617766667465763,\n",
       " 3.098118235764588,\n",
       " 3.036431464011559,\n",
       " 2.976634381991147,\n",
       " 2.862402434552395,\n",
       " 2.8078238813796608,\n",
       " 2.7548471692100844,\n",
       " 2.6049120440866753,\n",
       " 2.557741497943169,\n",
       " 2.5118864315095797,\n",
       " 2.3817325693647553,\n",
       " 2.340668924108697,\n",
       " 2.2617752246484892,\n",
       " 2.223868995927998,\n",
       " 2.186941873501013,\n",
       " 2.1509598491163953,\n",
       " 2.1158903930946673,\n",
       " 2.0817023773496066,\n",
       " 2.015852732718196,\n",
       " 1.9841352261189482,\n",
       " 1.836603761687833,\n",
       " 1.782322679652259,\n",
       " 1.7304967954848178,\n",
       " 1.7054577570116578,\n",
       " 1.6809777948184108,\n",
       " 1.6336285031747808,\n",
       " 1.5239366852969847,\n",
       " 1.4442087267728914,\n",
       " 1.406752334309378,\n",
       " 1.3885878456428111,\n",
       " 1.370785607033502,\n",
       " 1.2868786506369267,\n",
       " 1.2555349236732865,\n",
       " 1.1963038347632589,\n",
       " 1.1821743761456058,\n",
       " 1.1546828154852298,\n",
       " 1.1413082150431912,\n",
       " 1.1281730550735867,\n",
       " 1.0901472817447198,\n",
       " 1.0779137980165738,\n",
       " 1.0310531977328006,\n",
       " 0.987286714403068,\n",
       " 0.9463434827079453,\n",
       " 0.9079819139899502,\n",
       " 0.8548137545052116,\n",
       " 0.7911221028849658,\n",
       " 0.7836821211978203,\n",
       " 0.7213499529536067,\n",
       " 0.6607014645297486,\n",
       " 0.6495243699816922,\n",
       " 0.6333018725480981,\n",
       " 0.6126332913589454,\n",
       " 0.5929952935747782,\n",
       " 0.5609057539561321,\n",
       " 0.5043108508109686,\n",
       " 0.4792777870473429,\n",
       " 0.46913659356828485,\n",
       " 0.4625599873383782,\n",
       " 0.4174988431441509,\n",
       " 0.4039835230773553,\n",
       " 0.37654127244167684,\n",
       " 0.30954945165256115,\n",
       " 0.27608455896276035,\n",
       " 0.21384219780813113,\n",
       " 0.20715337608374912,\n",
       " 0.20167549871307655,\n",
       " 0.2007844444948455,\n",
       " 0.19303319761635657,\n",
       " 0.14167443584622622,\n",
       " 0.04930110593582623]"
      ]
     },
     "execution_count": 65,
     "metadata": {},
     "output_type": "execute_result"
    }
   ],
   "source": [
    "# degree exponent 1.8\n",
    "deg_pow = []\n",
    "for d in deg:\n",
    "    deg_pow.append(10 **4 *d ** (-1.8))\n",
    "deg_pow"
   ]
  },
  {
   "cell_type": "code",
   "execution_count": 94,
   "metadata": {},
   "outputs": [
    {
     "data": {
      "image/png": "[encoded data removed]",
      "text/plain": [
       "<Figure size 1080x396 with 2 Axes>"
      ]
     },
     "metadata": {
      "needs_background": "light"
     },
     "output_type": "display_data"
    }
   ],
   "source": [
    "onepic, axes = plt.subplots(1,2,figsize=(15,5.5))\n",
    "axes[0].scatter(deg, cnt, color='black')\n",
    "#axes[0].scatter(deg, deg_pow)\n",
    "axes[0].set_xscale('log')\n",
    "axes[0].set_yscale('log')\n",
    "axes[0].set_title(\"Degree distribution\", fontsize=16)\n",
    "axes[0].set_ylabel(\"Frequency\", fontsize=14)\n",
    "axes[0].set_xlabel(\"Node degree $d$\", fontsize=14)\n",
    "axes[0].annotate(\"var(d) = 1186\", xy = (10, 800), xytext=(10, 800), fontsize = 16)\n",
    "\n",
    "axes[1].scatter(deg_w, cnt_w, color='black')\n",
    "axes[1].set_yscale('log')\n",
    "axes[1].set_title(\"Strength distribution\", fontsize=16)\n",
    "#axes[1].set_ylabel(\"Frequency\", fontsize=12)\n",
    "axes[1].set_xlabel(\"Node strength $s$\", fontsize=14)\n",
    "axes[1].annotate(\"var(s) = 3693\", xy = (100, 50), xytext=(100, 500), fontsize = 16)\n",
    "plt.savefig('case_study_degree_distribution.pdf')"
   ]
  },
  {
   "cell_type": "code",
   "execution_count": 14,
   "metadata": {},
   "outputs": [
    {
     "data": {
      "image/png": "[encoded data removed]",
      "text/plain": [
       "<Figure size 1080x432 with 2 Axes>"
      ]
     },
     "metadata": {
      "needs_background": "light"
     },
     "output_type": "display_data"
    }
   ],
   "source": [
    "onepic, axes = plt.subplots(1,2,figsize=(15,6))\n",
    "axes[0].bar(deg, cnt)\n",
    "axes[0].set_yscale('log')\n",
    "\n",
    "\n",
    "axes[1].bar(deg_w, cnt_w)\n",
    "axes[1].set_yscale('log')"
   ]
  },
  {
   "cell_type": "code",
   "execution_count": null,
   "metadata": {},
   "outputs": [],
   "source": []
  },
  {
   "cell_type": "code",
   "execution_count": 3,
   "metadata": {},
   "outputs": [],
   "source": [
    "Ce = nx.closure(Alpha)\n",
    "Ce_weighted = nx.closure(Alpha, weight = 'weight')"
   ]
  },
  {
   "cell_type": "code",
   "execution_count": 4,
   "metadata": {},
   "outputs": [],
   "source": [
    "alpha_ce_wce_df = nx.get_ce_wce_df(Alpha)"
   ]
  },
  {
   "cell_type": "code",
   "execution_count": 5,
   "metadata": {},
   "outputs": [
    {
     "name": "stdout",
     "output_type": "stream",
     "text": [
      "3783\n",
      "3783\n",
      "137\n",
      "8\n"
     ]
    }
   ],
   "source": [
    "degree_ce = dict()\n",
    "for k, v in Ce.items():\n",
    "    #if v > 0:    #remove 0, in order to use log\n",
    "    degree_ce[k] = [Alpha.degree(k), v[0]]\n",
    "print(len(degree_ce))\n",
    "        \n",
    "# 1 and -1 to assign color in scatter plot\n",
    "degree_ce_weight = dict()   \n",
    "for k, v in Ce_weighted.items():\n",
    "    if v[0] >= 0:     \n",
    "        degree_ce_weight[k] = [Alpha.degree(k, 'weight'), v[0], 1]  # delete/add 'weight' to compare with degree\n",
    "    else:\n",
    "        degree_ce_weight[k] = [Alpha.degree(k, 'weight'), v[0], -1]  # delete/add 'weight' to compare with degree\n",
    "print(len(degree_ce_weight))\n",
    "\n",
    "degree_ce_weight_negative = dict()   \n",
    "for k, v in Ce_weighted.items():\n",
    "    if v[0] < 0:\n",
    "        degree_ce_weight_negative[k] = [Alpha.degree(k, 'weight'), v[0]]   # delete/add 'weight' to compare with degree\n",
    "print(len(degree_ce_weight_negative))\n",
    "\n",
    "degree_ce_weight_high = dict()   \n",
    "for k, v in Ce_weighted.items():\n",
    "    if v[0] > 0.25:\n",
    "        degree_ce_weight_high[k] = [Alpha.degree(k, 'weight'), v[0]]   # delete/add 'weight' to compare with degree\n",
    "print(len(degree_ce_weight_high))"
   ]
  },
  {
   "cell_type": "code",
   "execution_count": 6,
   "metadata": {},
   "outputs": [
    {
     "name": "stdout",
     "output_type": "stream",
     "text": [
      "[0.23283896947355412, 0.24803236071159152, 0.28830032859878996, 0.2308283412160645]\n",
      "[0.20152129359058624, 0.24608136950881862, 0.3197789591134885, 0.23261837778710664]\n",
      "[0.3540592332267357, 0.2510524486304413, 0.18719835679706054, 0.20768996134576237]\n"
     ]
    }
   ],
   "source": [
    "print(nx.average_normalized_patterns_app(Alpha))\n",
    "print(nx.average_normalized_patterns_app(Alpha,degree_ce_weight_negative.keys()))\n",
    "print(nx.average_normalized_patterns_app(Alpha,degree_ce_weight_high.keys()))"
   ]
  },
  {
   "cell_type": "code",
   "execution_count": 7,
   "metadata": {},
   "outputs": [],
   "source": [
    "degree_ce_list = []\n",
    "for key, value in degree_ce.items():\n",
    "    temp = [key, value[0], value[1]]\n",
    "    degree_ce_list.append(temp)\n",
    "degree_ce_list = sorted(degree_ce_list, key=lambda t:t[2])\n",
    "\n",
    "degree_ce_weight_list = []\n",
    "for k, v in degree_ce_weight.items():\n",
    "    temp = [k, v[0], v[1], v[2]]\n",
    "    degree_ce_weight_list.append(temp)\n",
    "degree_ce_weight_list = sorted(degree_ce_weight_list, key=lambda t:t[2], reverse=True)\n",
    "\n",
    "degree_ce_negative_list = []\n",
    "for key, value in degree_ce_weight_negative.items():\n",
    "    temp = [key, value[0], value[1]]\n",
    "    degree_ce_negative_list.append(temp)\n",
    "degree_ce_negative_list = sorted(degree_ce_negative_list, key=lambda t:t[2])\n",
    "\n",
    "#degree_ce_weight_high = degree_ce_weight_list[0:15]\n",
    "degree_ce_high_list = []\n",
    "for key, value in degree_ce_weight_high.items():\n",
    "    temp = [key, value[0], value[1]]\n",
    "    degree_ce_high_list.append(temp)\n",
    "degree_ce_high_list = sorted(degree_ce_high_list, key=lambda t:t[2])"
   ]
  },
  {
   "cell_type": "code",
   "execution_count": 8,
   "metadata": {},
   "outputs": [],
   "source": [
    "df_degree_ce = pd.DataFrame(degree_ce_list, columns=['node-id','degree', 'clo'])\n",
    "df_degree_ce_weighted = pd.DataFrame(degree_ce_weight_list, columns=['node-id','strength', 'clo', 'sign'])\n",
    "df_degree_ce_negative = pd.DataFrame(degree_ce_negative_list, columns=['node-id','strength', 'clo'])\n",
    "df_degree_ce_high = pd.DataFrame(degree_ce_high_list, columns=['node-id','strength', 'clo'])"
   ]
  },
  {
   "cell_type": "code",
   "execution_count": 9,
   "metadata": {},
   "outputs": [
    {
     "data": {
      "image/png": "[encoded data removed]",
      "text/plain": [
       "<Figure size 1512x504 with 2 Axes>"
      ]
     },
     "metadata": {
      "needs_background": "light"
     },
     "output_type": "display_data"
    }
   ],
   "source": [
    "onepic, axes = plt.subplots(nrows=1,ncols=2,figsize=(21,7))\n",
    "plt.subplots_adjust(wspace=0.35)  \n",
    "fig = df_degree_ce.plot(kind=\"scatter\", x = 'degree', y = 'clo',ax=axes[0], logx=True, s=5, c='Black')\n",
    "fig.set_xlabel(\"degree\", fontsize=26)\n",
    "fig.set_ylabel(\"$E^\\mathcal{D}(i)$\", fontsize=26)\n",
    "fig.set_title(\"(a). TR-BTCAlpha (w/o weight)\", fontsize=28)\n",
    "fig.set_xlim(0.9, 1200)\n",
    "fig.set_ylim(-0.001, 0.6)\n",
    "fig.tick_params(axis = 'x', labelsize = 26)\n",
    "fig.tick_params(axis = 'y', labelsize = 26)\n",
    "fig.annotate(\"ρ = 0.714\", xy = (10, 0.52), xytext=(10, 0.52), fontsize = 26)\n",
    "#fig.annotate(\"degree\", xy = (100, 0.015), xytext=(100, 0.015), fontsize = 28)\n",
    "\n",
    "fig_weight = df_degree_ce_weighted.plot(kind = 'scatter', x = 'strength', y = 'clo', ax=axes[1], s=5, c='sign', colormap='coolwarm', colorbar=False)\n",
    "fig_weight.set_xlabel(\"strength\", fontsize=26)\n",
    "fig_weight.set_ylabel(\"$E^\\mathcal{W,D}(i)$\", fontsize=26)\n",
    "fig_weight.tick_params(axis = 'x', labelsize = 26)\n",
    "fig_weight.tick_params(axis = 'y', labelsize = 26)\n",
    "fig_weight.set_title(\"(b). TR-BTCAlpha (w/ weight)\", fontsize=28)\n",
    "fig_weight.annotate(\"ρ = 0.265\", xy = (10, 0.50), xytext=(10, 0.50), fontsize = 26)\n",
    "#fig_weight.annotate(\"strength\", xy = (15, -0.085), xytext=(15, -0.085), fontsize = 28)\n",
    "\n",
    "plt.savefig('alpha.pdf')\n",
    "plt.savefig('alpha.eps')\n",
    "plt.savefig('alpha.png')"
   ]
  },
  {
   "cell_type": "markdown",
   "metadata": {},
   "source": [
    "Three observations\n",
    "1. highly trusted group are only formed with small circle\n",
    "2. nodes with big strength, is better then average\n",
    "3. very small number of negative triangle, and not too low."
   ]
  },
  {
   "cell_type": "code",
   "execution_count": 10,
   "metadata": {},
   "outputs": [
    {
     "name": "stdout",
     "output_type": "stream",
     "text": [
      "          degree       clo\n",
      "degree  1.000000  0.713975\n",
      "clo     0.713975  1.000000\n",
      "          strength       clo      sign\n",
      "strength  1.000000  0.264943  0.030720\n",
      "clo       0.264943  1.000000  0.066753\n",
      "sign      0.030720  0.066753  1.000000\n"
     ]
    }
   ],
   "source": [
    "print(df_degree_ce.corr(method='pearson'))\n",
    "print(df_degree_ce_weighted.corr(method='pearson'))"
   ]
  },
  {
   "cell_type": "code",
   "execution_count": 25,
   "metadata": {},
   "outputs": [
    {
     "name": "stdout",
     "output_type": "stream",
     "text": [
      "                   closure  weighted-closure\n",
      "closure           1.000000          0.509839\n",
      "weighted-closure  0.509839          1.000000\n"
     ]
    }
   ],
   "source": [
    "print(alpha_ce_wce_df.corr(method='pearson'))"
   ]
  },
  {
   "cell_type": "code",
   "execution_count": null,
   "metadata": {},
   "outputs": [],
   "source": []
  }
 ],
 "metadata": {
  "kernelspec": {
   "display_name": "Python 3",
   "language": "python",
   "name": "python3"
  },
  "language_info": {
   "codemirror_mode": {
    "name": "ipython",
    "version": 3
   },
   "file_extension": ".py",
   "mimetype": "text/x-python",
   "name": "python",
   "nbconvert_exporter": "python",
   "pygments_lexer": "ipython3",
   "version": "3.8.5"
  }
 },
 "nbformat": 4,
 "nbformat_minor": 4
}
