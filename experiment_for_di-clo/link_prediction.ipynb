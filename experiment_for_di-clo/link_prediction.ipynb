{
 "cells": [
  {
   "cell_type": "code",
   "execution_count": 1,
   "metadata": {},
   "outputs": [],
   "source": [
    "import networkx as nx"
   ]
  },
  {
   "cell_type": "code",
   "execution_count": 2,
   "metadata": {},
   "outputs": [],
   "source": [
    "FW_Mangwet = nx.read_edgelist(\"datasets/FW-Mangwet\", create_using=nx.DiGraph, data = (('weight', float),))\n",
    "#FW_Everglades = nx.read_edgelist(\"datasets/FW-Everglades\", create_using=nx.DiGraph, data = (('weight', float),))\n",
    "#FW_Chesa = nx.read_edgelist(\"datasets/FW-Chesa\", create_using=nx.DiGraph)\n",
    "FW_Baywet = nx.read_edgelist(\"datasets/FW-Baywet\", create_using=nx.DiGraph, data = (('weight', float),))\n",
    "FW_Baydry = nx.read_edgelist(\"datasets/FW-Baydry\", create_using=nx.DiGraph, data = (('weight', float),))\n",
    "FW_LittleRock = nx.read_edgelist(\"datasets/FW-LittleRock\", create_using=nx.DiGraph)\n",
    "\n",
    "# Soc_Alpha = nx.read_edgelist(\"datasets/BTC-Alpha\", delimiter = ',', create_using=nx.DiGraph, data=(('weight', int),('sec', int),))\n",
    "# Soc_OTC = nx.read_edgelist(\"datasets/BTC-OTC\", delimiter = ',', create_using=nx.DiGraph, data=(('weight', int),('sec', float),))\n",
    "# Soc_Epinions = nx.read_edgelist(\"datasets/Soc_Epinions.csv\", delimiter = ',', create_using=nx.DiGraph)\n",
    "# Soc_Advogato = nx.read_edgelist(\"datasets/Soc_Advogato.csv\", delimiter = ',', create_using=nx.DiGraph, data=(('weight', float),))\n",
    "\n",
    "# Cit_Cora = nx.read_edgelist(\"datasets/Cit-Cora\", create_using=nx.DiGraph)\n",
    "# Cit_HepPh = nx.read_edgelist(\"datasets/Cit-HepPh\", create_using=nx.DiGraph)\n",
    "# Cit_HepTh = nx.read_edgelist(\"datasets/Cit-HepTh\", create_using=nx.DiGraph)\n",
    "# Cit_Citeseer = nx.read_edgelist(\"datasets/Cit-Citeseer\", delimiter = ',', create_using=nx.DiGraph)\n",
    "\n",
    "# Web_Stanford = nx.read_edgelist(\"datasets/web-Stanford.txt\", create_using=nx.DiGraph)\n",
    "# Web_NotreDame = nx.read_edgelist(\"datasets/web-NotreDame.txt\", create_using=nx.DiGraph)\n",
    "# Web_BerkStan = nx.read_edgelist(\"datasets/web-BerkStan.txt\", create_using=nx.DiGraph)\n",
    "# Web_Google = nx.read_edgelist(\"datasets/web-Google.txt\", create_using=nx.DiGraph)\n",
    "\n",
    "# WordAdj_Spa = nx.read_edgelist(\"datasets/WordAdj_Spa.csv\", delimiter = ',', create_using=nx.DiGraph)\n",
    "# WordAdj_Fr = nx.read_edgelist(\"datasets/WordAdj_Fr.csv\", delimiter = ',', create_using=nx.DiGraph)\n",
    "# WordAdj_Jp = nx.read_edgelist(\"datasets/WordAdj_Jp.csv\", delimiter = ',', create_using=nx.DiGraph)\n",
    "# WordAdj_Drw = nx.read_edgelist(\"datasets/WordAdj_Drw.csv\", delimiter = ',', create_using=nx.DiGraph)\n",
    "\n",
    "# SW_Jdk = nx.read_edgelist(\"datasets/SW_Jdk.csv\", delimiter = ',', create_using=nx.DiGraph)\n",
    "# SW_Jung = nx.read_edgelist(\"datasets/SW_Jung.csv\", delimiter = ',', create_using=nx.DiGraph)\n",
    "# SW_Weka = nx.read_edgelist(\"datasets/SW_Weka\", create_using=nx.DiGraph)\n",
    "# SW_Lucene = nx.read_edgelist(\"datasets/SW_Lucene\", create_using=nx.DiGraph, data=(('weight', str),))"
   ]
  },
  {
   "cell_type": "code",
   "execution_count": 3,
   "metadata": {},
   "outputs": [
    {
     "data": {
      "text/plain": [
       "'Name: \\nType: DiGraph\\nNumber of nodes: 97\\nNumber of edges: 1492\\nAverage in degree:  15.3814\\nAverage out degree:  15.3814'"
      ]
     },
     "execution_count": 3,
     "metadata": {},
     "output_type": "execute_result"
    }
   ],
   "source": [
    "nx.info(FW_Mangwet)"
   ]
  },
  {
   "cell_type": "code",
   "execution_count": null,
   "metadata": {},
   "outputs": [
    {
     "name": "stderr",
     "output_type": "stream",
     "text": [
      "\r",
      "  0%|          | 0/10 [00:00<?, ?it/s]"
     ]
    },
    {
     "name": "stdout",
     "output_type": "stream",
     "text": [
      "no sampling\n",
      "train test split time: 10: using 50.00 % of edges to predict 50.00 % edges\n",
      "Number of dataset: 10\n"
     ]
    },
    {
     "name": "stderr",
     "output_type": "stream",
     "text": [
      "\r",
      " 10%|█         | 1/10 [00:00<00:05,  1.53it/s]"
     ]
    },
    {
     "name": "stdout",
     "output_type": "stream",
     "text": [
      "Result until dataset no.1:\n",
      "rg:   8.708848937660518\n",
      "ROC-AUC:\n",
      "cn:   0.7039818503459199\n",
      "aa:   0.7136701795766681\n",
      "ra:   0.713973930870868\n",
      "clo1: 0.7188335230350446\n",
      "clo2: 0.7455140973512613\n",
      "dgr:  0.759211703681356\n",
      "\n",
      "PR-AUC:\n",
      "cn:   0.24595019011870226\n",
      "aa:   0.2532647410833196\n",
      "ra:   0.2504671938147553\n",
      "clo1: 0.28884007001952267\n",
      "clo2: 0.27124531902718135\n",
      "dgr:  0.28023168888113126\n",
      "\n",
      "\n"
     ]
    },
    {
     "name": "stderr",
     "output_type": "stream",
     "text": [
      "\r",
      " 20%|██        | 2/10 [00:01<00:05,  1.53it/s]"
     ]
    },
    {
     "name": "stdout",
     "output_type": "stream",
     "text": [
      "Result until dataset no.2:\n",
      "rg:   8.708848937660518\n",
      "ROC-AUC:\n",
      "cn:   0.6966685922533136\n",
      "aa:   0.7060646979971614\n",
      "ra:   0.7065518657049019\n",
      "clo1: 0.7098120067469814\n",
      "clo2: 0.7431496112257702\n",
      "dgr:  0.7551582437964113\n",
      "\n",
      "PR-AUC:\n",
      "cn:   0.23742305697061705\n",
      "aa:   0.24661385266471508\n",
      "ra:   0.24678444014169043\n",
      "clo1: 0.27955397931988135\n",
      "clo2: 0.2681121055622616\n",
      "dgr:  0.2755817909719692\n",
      "\n",
      "\n"
     ]
    },
    {
     "name": "stderr",
     "output_type": "stream",
     "text": [
      "\r",
      " 30%|███       | 3/10 [00:01<00:04,  1.54it/s]"
     ]
    },
    {
     "name": "stdout",
     "output_type": "stream",
     "text": [
      "Result until dataset no.3:\n",
      "rg:   8.708848937660518\n",
      "ROC-AUC:\n",
      "cn:   0.6936405072578046\n",
      "aa:   0.7031625903654387\n",
      "ra:   0.7036739278996365\n",
      "clo1: 0.7072849456836005\n",
      "clo2: 0.7397421085230921\n",
      "dgr:  0.7502153571534688\n",
      "\n",
      "PR-AUC:\n",
      "cn:   0.236061654582431\n",
      "aa:   0.24525820602663137\n",
      "ra:   0.2451640518083932\n",
      "clo1: 0.2801413686555179\n",
      "clo2: 0.26093346941769696\n",
      "dgr:  0.2677340493536588\n",
      "\n",
      "\n"
     ]
    },
    {
     "name": "stderr",
     "output_type": "stream",
     "text": [
      "\r",
      " 40%|████      | 4/10 [00:02<00:03,  1.55it/s]"
     ]
    },
    {
     "name": "stdout",
     "output_type": "stream",
     "text": [
      "Result until dataset no.4:\n",
      "rg:   8.740855714470609\n",
      "ROC-AUC:\n",
      "cn:   0.6982682214675058\n",
      "aa:   0.707649453058794\n",
      "ra:   0.708272305953475\n",
      "clo1: 0.7114250822809898\n",
      "clo2: 0.7382945468597515\n",
      "dgr:  0.74878016205291\n",
      "\n",
      "PR-AUC:\n",
      "cn:   0.24009760226025217\n",
      "aa:   0.2495461098377777\n",
      "ra:   0.24948542118318232\n",
      "clo1: 0.2845260075716948\n",
      "clo2: 0.2591514966715697\n",
      "dgr:  0.2650961587687387\n",
      "\n",
      "\n"
     ]
    },
    {
     "name": "stderr",
     "output_type": "stream",
     "text": [
      "\r",
      " 50%|█████     | 5/10 [00:03<00:03,  1.54it/s]"
     ]
    },
    {
     "name": "stdout",
     "output_type": "stream",
     "text": [
      "Result until dataset no.5:\n",
      "rg:   8.734454359108591\n",
      "ROC-AUC:\n",
      "cn:   0.6957039643917662\n",
      "aa:   0.7056062364732141\n",
      "ra:   0.7063989278452728\n",
      "clo1: 0.7091528021234144\n",
      "clo2: 0.7416326685417427\n",
      "dgr:  0.7523136601648762\n",
      "\n",
      "PR-AUC:\n",
      "cn:   0.23748169075619593\n",
      "aa:   0.2472410038441823\n",
      "ra:   0.24764292991035114\n",
      "clo1: 0.2824810236201254\n",
      "clo2: 0.2609799059389866\n",
      "dgr:  0.266070999002366\n",
      "\n",
      "\n"
     ]
    },
    {
     "name": "stderr",
     "output_type": "stream",
     "text": [
      "\r",
      " 60%|██████    | 6/10 [00:03<00:02,  1.54it/s]"
     ]
    },
    {
     "name": "stdout",
     "output_type": "stream",
     "text": [
      "Result until dataset no.6:\n",
      "rg:   8.730186788867245\n",
      "ROC-AUC:\n",
      "cn:   0.6915276374753923\n",
      "aa:   0.701372468144757\n",
      "ra:   0.7021921337427811\n",
      "clo1: 0.7046400331182912\n",
      "clo2: 0.7392741154193972\n",
      "dgr:  0.7500598311164862\n",
      "\n",
      "PR-AUC:\n",
      "cn:   0.23529621018643634\n",
      "aa:   0.24551145738417626\n",
      "ra:   0.2467499239006011\n",
      "clo1: 0.27923349469911524\n",
      "clo2: 0.2582723068013955\n",
      "dgr:  0.26413836748669167\n",
      "\n",
      "\n"
     ]
    },
    {
     "name": "stderr",
     "output_type": "stream",
     "text": [
      "\r",
      " 70%|███████   | 7/10 [00:04<00:01,  1.54it/s]"
     ]
    },
    {
     "name": "stdout",
     "output_type": "stream",
     "text": [
      "Result until dataset no.7:\n",
      "rg:   8.727138524409142\n",
      "ROC-AUC:\n",
      "cn:   0.691496473599244\n",
      "aa:   0.7017517753727489\n",
      "ra:   0.7027052272146765\n",
      "clo1: 0.7043390941927038\n",
      "clo2: 0.7395098828296446\n",
      "dgr:  0.7506542193583219\n",
      "\n",
      "PR-AUC:\n",
      "cn:   0.23628857622831473\n",
      "aa:   0.24688656102056195\n",
      "ra:   0.24828041307450643\n",
      "clo1: 0.279388543278207\n",
      "clo2: 0.26060562227278583\n",
      "dgr:  0.26771893270650376\n",
      "\n",
      "\n"
     ]
    },
    {
     "name": "stderr",
     "output_type": "stream",
     "text": [
      "\r",
      " 80%|████████  | 8/10 [00:05<00:01,  1.54it/s]"
     ]
    },
    {
     "name": "stdout",
     "output_type": "stream",
     "text": [
      "Result until dataset no.8:\n",
      "rg:   8.724852326065564\n",
      "ROC-AUC:\n",
      "cn:   0.6882978540227692\n",
      "aa:   0.6986534550251081\n",
      "ra:   0.6996584783540267\n",
      "clo1: 0.7012536581293116\n",
      "clo2: 0.7382966648130755\n",
      "dgr:  0.7495863323035132\n",
      "\n",
      "PR-AUC:\n",
      "cn:   0.23348185233188024\n",
      "aa:   0.24392786911139663\n",
      "ra:   0.24536206365288674\n",
      "clo1: 0.27705117572840277\n",
      "clo2: 0.26008374715399873\n",
      "dgr:  0.26666608234696687\n",
      "\n",
      "\n"
     ]
    },
    {
     "name": "stderr",
     "output_type": "stream",
     "text": [
      "\r",
      " 90%|█████████ | 9/10 [00:05<00:00,  1.56it/s]"
     ]
    },
    {
     "name": "stdout",
     "output_type": "stream",
     "text": [
      "Result until dataset no.9:\n",
      "rg:   8.7533063361052\n",
      "ROC-AUC:\n",
      "cn:   0.6870459736323355\n",
      "aa:   0.6972708987710402\n",
      "ra:   0.6982330908058146\n",
      "clo1: 0.6999538281630852\n",
      "clo2: 0.7383884592992487\n",
      "dgr:  0.749645085807553\n",
      "\n",
      "PR-AUC:\n",
      "cn:   0.23312548812790934\n",
      "aa:   0.24331732180336565\n",
      "ra:   0.2447492837958418\n",
      "clo1: 0.27625300137792913\n",
      "clo2: 0.26042891249878436\n",
      "dgr:  0.2671633521646474\n",
      "\n",
      "\n"
     ]
    },
    {
     "name": "stderr",
     "output_type": "stream",
     "text": [
      "100%|██████████| 10/10 [00:06<00:00,  1.55it/s]\n",
      "  0%|          | 0/10 [00:00<?, ?it/s]"
     ]
    },
    {
     "name": "stdout",
     "output_type": "stream",
     "text": [
      "Result until dataset no.10:\n",
      "rg:   8.748860596260732\n",
      "ROC-AUC:\n",
      "cn:   0.6881461149264252\n",
      "aa:   0.6982970503933568\n",
      "ra:   0.6992291731255746\n",
      "clo1: 0.7010018704683115\n",
      "clo2: 0.7380034301448976\n",
      "dgr:  0.7493887394286174\n",
      "\n",
      "PR-AUC:\n",
      "cn:   0.2334310593246171\n",
      "aa:   0.2437734374682973\n",
      "ra:   0.24561712005522907\n",
      "clo1: 0.2760468303042384\n",
      "clo2: 0.25928403131326605\n",
      "dgr:  0.26661438448662117\n",
      "\n",
      "\n",
      "rg:   8.749\n",
      "ROC-AUC/n\n",
      "cn:   0.688\n",
      "aa:   0.698\n",
      "ra:   0.699\n",
      "clo1: 0.701\n",
      "clo2: 0.738\n",
      "dgr:  0.749\n",
      "PR-AUC/n\n",
      "cn: 0.233\n",
      "aa: 0.244\n",
      "ra: 0.246\n",
      "clo1: 0.276\n",
      "clo2: 0.259\n",
      "dgr:  0.267\n",
      "no sampling\n",
      "train test split time: 10: using 50.00 % of edges to predict 50.00 % edges\n",
      "Number of dataset: 10\n"
     ]
    },
    {
     "name": "stderr",
     "output_type": "stream",
     "text": [
      "\r",
      " 10%|█         | 1/10 [00:01<00:10,  1.17s/it]"
     ]
    },
    {
     "name": "stdout",
     "output_type": "stream",
     "text": [
      "Result until dataset no.1:\n",
      "rg:   7.144770322753448\n",
      "ROC-AUC:\n",
      "cn:   0.6383994784027048\n",
      "aa:   0.641135032372406\n",
      "ra:   0.6415418290603686\n",
      "clo1: 0.6460156126392589\n",
      "clo2: 0.6631348662474251\n",
      "dgr:  0.6715281315217826\n",
      "\n",
      "PR-AUC:\n",
      "cn:   0.16285164272958558\n",
      "aa:   0.16690759432625213\n",
      "ra:   0.16824847511066882\n",
      "clo1: 0.19680361382736516\n",
      "clo2: 0.1909453788576017\n",
      "dgr:  0.18412080068765024\n",
      "\n",
      "\n"
     ]
    },
    {
     "name": "stderr",
     "output_type": "stream",
     "text": [
      "\r",
      " 20%|██        | 2/10 [00:02<00:09,  1.17s/it]"
     ]
    },
    {
     "name": "stdout",
     "output_type": "stream",
     "text": [
      "Result until dataset no.2:\n",
      "rg:   7.09161086588028\n",
      "ROC-AUC:\n",
      "cn:   0.6405605152482784\n",
      "aa:   0.6432660294449124\n",
      "ra:   0.643702711481807\n",
      "clo1: 0.648000662379218\n",
      "clo2: 0.6619548172264061\n",
      "dgr:  0.6719823827247235\n",
      "\n",
      "PR-AUC:\n",
      "cn:   0.16533343537789158\n",
      "aa:   0.16931956266907144\n",
      "ra:   0.17044599936503163\n",
      "clo1: 0.19936398009517245\n",
      "clo2: 0.18901929031513565\n",
      "dgr:  0.18509525374830735\n",
      "\n",
      "\n"
     ]
    },
    {
     "name": "stderr",
     "output_type": "stream",
     "text": [
      "\r",
      " 30%|███       | 3/10 [00:03<00:08,  1.18s/it]"
     ]
    },
    {
     "name": "stdout",
     "output_type": "stream",
     "text": [
      "Result until dataset no.3:\n",
      "rg:   7.073891046922557\n",
      "ROC-AUC:\n",
      "cn:   0.6448573143210319\n",
      "aa:   0.6476317801226117\n",
      "ra:   0.6480885609504404\n",
      "clo1: 0.6519974985410902\n",
      "clo2: 0.6641888519222133\n",
      "dgr:  0.6741262298105202\n",
      "\n",
      "PR-AUC:\n",
      "cn:   0.16881942360627722\n",
      "aa:   0.17346009310098476\n",
      "ra:   0.17584162346933427\n",
      "clo1: 0.20267993484003197\n",
      "clo2: 0.18913624211612212\n",
      "dgr:  0.185490492297005\n",
      "\n",
      "\n"
     ]
    },
    {
     "name": "stderr",
     "output_type": "stream",
     "text": [
      "\r",
      " 40%|████      | 4/10 [00:05<00:08,  1.35s/it]"
     ]
    },
    {
     "name": "stdout",
     "output_type": "stream",
     "text": [
      "Result until dataset no.4:\n",
      "rg:   7.065031137443695\n",
      "ROC-AUC:\n",
      "cn:   0.6407286449818724\n",
      "aa:   0.643502123621815\n",
      "ra:   0.6438730580811146\n",
      "clo1: 0.6476480874556547\n",
      "clo2: 0.6668898927095295\n",
      "dgr:  0.6764810480270569\n",
      "\n",
      "PR-AUC:\n",
      "cn:   0.16615281492711761\n",
      "aa:   0.17048981852417028\n",
      "ra:   0.1722926830114127\n",
      "clo1: 0.2005948026056271\n",
      "clo2: 0.18925867586099465\n",
      "dgr:  0.18534265226086705\n",
      "\n",
      "\n"
     ]
    },
    {
     "name": "stderr",
     "output_type": "stream",
     "text": [
      "\r",
      " 50%|█████     | 5/10 [00:06<00:06,  1.30s/it]"
     ]
    },
    {
     "name": "stdout",
     "output_type": "stream",
     "text": [
      "Result until dataset no.5:\n",
      "rg:   7.059715191756378\n",
      "ROC-AUC:\n",
      "cn:   0.6407892665095846\n",
      "aa:   0.6440288328717931\n",
      "ra:   0.6443955787980976\n",
      "clo1: 0.6477823433444162\n",
      "clo2: 0.6680751095009427\n",
      "dgr:  0.6775235538878243\n",
      "\n",
      "PR-AUC:\n",
      "cn:   0.1672739439236712\n",
      "aa:   0.1718890177568047\n",
      "ra:   0.17326546664597314\n",
      "clo1: 0.20053766854454436\n",
      "clo2: 0.18899394765794614\n",
      "dgr:  0.18646976352099492\n",
      "\n",
      "\n"
     ]
    },
    {
     "name": "stderr",
     "output_type": "stream",
     "text": [
      "\r",
      " 60%|██████    | 6/10 [00:07<00:05,  1.27s/it]"
     ]
    },
    {
     "name": "stdout",
     "output_type": "stream",
     "text": [
      "Result until dataset no.6:\n",
      "rg:   7.073891046922557\n",
      "ROC-AUC:\n",
      "cn:   0.6435289767857197\n",
      "aa:   0.6468772890895457\n",
      "ra:   0.647302322880907\n",
      "clo1: 0.6507430952841964\n",
      "clo2: 0.6707796498825181\n",
      "dgr:  0.6796288759662854\n",
      "\n",
      "PR-AUC:\n",
      "cn:   0.1690191896904465\n",
      "aa:   0.17397372048554183\n",
      "ra:   0.17553717556206094\n",
      "clo1: 0.20217620064750227\n",
      "clo2: 0.1902273789563995\n",
      "dgr:  0.18733881815765582\n",
      "\n",
      "\n"
     ]
    },
    {
     "name": "stderr",
     "output_type": "stream",
     "text": [
      "\r",
      " 70%|███████   | 7/10 [00:08<00:03,  1.25s/it]"
     ]
    },
    {
     "name": "stdout",
     "output_type": "stream",
     "text": [
      "Result until dataset no.7:\n",
      "rg:   7.068828241506064\n",
      "ROC-AUC:\n",
      "cn:   0.6460969465717856\n",
      "aa:   0.6494330463451327\n",
      "ra:   0.6499224929690001\n",
      "clo1: 0.6534562797188832\n",
      "clo2: 0.6726081560879811\n",
      "dgr:  0.6805497675166844\n",
      "\n",
      "PR-AUC:\n",
      "cn:   0.1696915793610408\n",
      "aa:   0.17475109663811592\n",
      "ra:   0.17655991292725304\n",
      "clo1: 0.20349967343491085\n",
      "clo2: 0.1902643605793166\n",
      "dgr:  0.18674306759388704\n",
      "\n",
      "\n"
     ]
    },
    {
     "name": "stderr",
     "output_type": "stream",
     "text": [
      "\r",
      " 80%|████████  | 8/10 [00:10<00:02,  1.23s/it]"
     ]
    },
    {
     "name": "stdout",
     "output_type": "stream",
     "text": [
      "Result until dataset no.8:\n",
      "rg:   7.065031137443695\n",
      "ROC-AUC:\n",
      "cn:   0.6456214012996125\n",
      "aa:   0.6489681767519438\n",
      "ra:   0.6494742093000451\n",
      "clo1: 0.6528996883392215\n",
      "clo2: 0.6736844734455265\n",
      "dgr:  0.6816598673064984\n",
      "\n",
      "PR-AUC:\n",
      "cn:   0.16963289557684413\n",
      "aa:   0.17478244754415684\n",
      "ra:   0.17649653226717038\n",
      "clo1: 0.2035325178175253\n",
      "clo2: 0.1923575611543042\n",
      "dgr:  0.18860535322877922\n",
      "\n",
      "\n"
     ]
    },
    {
     "name": "stderr",
     "output_type": "stream",
     "text": [
      "\r",
      " 90%|█████████ | 9/10 [00:11<00:01,  1.22s/it]"
     ]
    },
    {
     "name": "stdout",
     "output_type": "stream",
     "text": [
      "Result until dataset no.9:\n",
      "rg:   7.062077834284074\n",
      "ROC-AUC:\n",
      "cn:   0.6451293034070146\n",
      "aa:   0.6483594216412124\n",
      "ra:   0.648911408212974\n",
      "clo1: 0.6522389883585915\n",
      "clo2: 0.6741754932885449\n",
      "dgr:  0.68152729329698\n",
      "\n",
      "PR-AUC:\n",
      "cn:   0.16948570719593106\n",
      "aa:   0.17450615892970706\n",
      "ra:   0.1764122758285576\n",
      "clo1: 0.20290418609113806\n",
      "clo2: 0.19135475796609192\n",
      "dgr:  0.18721285091880752\n",
      "\n",
      "\n"
     ]
    },
    {
     "name": "stderr",
     "output_type": "stream",
     "text": [
      "100%|██████████| 10/10 [00:12<00:00,  1.25s/it]\n",
      "  0%|          | 0/10 [00:00<?, ?it/s]"
     ]
    },
    {
     "name": "stdout",
     "output_type": "stream",
     "text": [
      "Result until dataset no.10:\n",
      "rg:   7.059715191756378\n",
      "ROC-AUC:\n",
      "cn:   0.6454720157787883\n",
      "aa:   0.6487749590992868\n",
      "ra:   0.6493578287628122\n",
      "clo1: 0.6524886723143596\n",
      "clo2: 0.674681244044742\n",
      "dgr:  0.6820627013026708\n",
      "\n",
      "PR-AUC:\n",
      "cn:   0.16953643652074385\n",
      "aa:   0.17476125390159578\n",
      "ra:   0.17687682253505668\n",
      "clo1: 0.2028195241243595\n",
      "clo2: 0.19159409747175787\n",
      "dgr:  0.18738031882969208\n",
      "\n",
      "\n",
      "rg:   7.060\n",
      "ROC-AUC/n\n",
      "cn:   0.645\n",
      "aa:   0.649\n",
      "ra:   0.649\n",
      "clo1: 0.652\n",
      "clo2: 0.675\n",
      "dgr:  0.682\n",
      "PR-AUC/n\n",
      "cn: 0.170\n",
      "aa: 0.175\n",
      "ra: 0.177\n",
      "clo1: 0.203\n",
      "clo2: 0.192\n",
      "dgr:  0.187\n",
      "no sampling\n",
      "train test split time: 10: using 50.00 % of edges to predict 50.00 % edges\n",
      "Number of dataset: 10\n"
     ]
    },
    {
     "name": "stderr",
     "output_type": "stream",
     "text": [
      "\r",
      " 10%|█         | 1/10 [00:01<00:10,  1.17s/it]"
     ]
    },
    {
     "name": "stdout",
     "output_type": "stream",
     "text": [
      "Result until dataset no.1:\n",
      "rg:   7.0305706067295475\n",
      "ROC-AUC:\n",
      "cn:   0.654182456689002\n",
      "aa:   0.6585731178044635\n",
      "ra:   0.6590772666261285\n",
      "clo1: 0.6622576693399881\n",
      "clo2: 0.6839041999485445\n",
      "dgr:  0.689914997112988\n",
      "\n",
      "PR-AUC:\n",
      "cn:   0.16902778663711618\n",
      "aa:   0.17445648192198268\n",
      "ra:   0.17516962959019158\n",
      "clo1: 0.20619268310755356\n",
      "clo2: 0.18821603610411397\n",
      "dgr:  0.18286711399746036\n",
      "\n",
      "\n"
     ]
    },
    {
     "name": "stderr",
     "output_type": "stream",
     "text": [
      "\r",
      " 20%|██        | 2/10 [00:02<00:09,  1.18s/it]"
     ]
    },
    {
     "name": "stdout",
     "output_type": "stream",
     "text": [
      "Result until dataset no.2:\n",
      "rg:   6.978417579889144\n",
      "ROC-AUC:\n",
      "cn:   0.6474126723761924\n",
      "aa:   0.6506888958228254\n",
      "ra:   0.6509859200489259\n",
      "clo1: 0.654789383866468\n",
      "clo2: 0.6755562228068992\n",
      "dgr:  0.680390167793639\n",
      "\n",
      "PR-AUC:\n",
      "cn:   0.16966388759095213\n",
      "aa:   0.17381552348809387\n",
      "ra:   0.17511512491429665\n",
      "clo1: 0.20607182483193512\n",
      "clo2: 0.18464271086768697\n",
      "dgr:  0.17920581233689076\n",
      "\n",
      "\n"
     ]
    },
    {
     "name": "stderr",
     "output_type": "stream",
     "text": [
      "\r",
      " 30%|███       | 3/10 [00:03<00:08,  1.18s/it]"
     ]
    },
    {
     "name": "stdout",
     "output_type": "stream",
     "text": [
      "Result until dataset no.3:\n",
      "rg:   6.961033237609009\n",
      "ROC-AUC:\n",
      "cn:   0.6463798177296635\n",
      "aa:   0.6498753133764569\n",
      "ra:   0.6503232408803606\n",
      "clo1: 0.6538774662617964\n",
      "clo2: 0.6753769058290646\n",
      "dgr:  0.6806176074692346\n",
      "\n",
      "PR-AUC:\n",
      "cn:   0.16395823750854224\n",
      "aa:   0.16886377956471943\n",
      "ra:   0.17055626265846832\n",
      "clo1: 0.1981856565522692\n",
      "clo2: 0.185841760122777\n",
      "dgr:  0.18070710932551573\n",
      "\n",
      "\n"
     ]
    },
    {
     "name": "stderr",
     "output_type": "stream",
     "text": [
      "\r",
      " 40%|████      | 4/10 [00:04<00:07,  1.18s/it]"
     ]
    },
    {
     "name": "stdout",
     "output_type": "stream",
     "text": [
      "Result until dataset no.4:\n",
      "rg:   6.952341066468943\n",
      "ROC-AUC:\n",
      "cn:   0.6464258084010902\n",
      "aa:   0.6501245226767642\n",
      "ra:   0.650658950514364\n",
      "clo1: 0.6541476088893312\n",
      "clo2: 0.6778669707620381\n",
      "dgr:  0.6836090886418019\n",
      "\n",
      "PR-AUC:\n",
      "cn:   0.1652782294838154\n",
      "aa:   0.17056247727778742\n",
      "ra:   0.1724089088980523\n",
      "clo1: 0.19982221739926265\n",
      "clo2: 0.18948090707048873\n",
      "dgr:  0.18373428496513342\n",
      "\n",
      "\n"
     ]
    },
    {
     "name": "stderr",
     "output_type": "stream",
     "text": [
      "\r",
      " 50%|█████     | 5/10 [00:05<00:05,  1.18s/it]"
     ]
    },
    {
     "name": "stdout",
     "output_type": "stream",
     "text": [
      "Result until dataset no.5:\n",
      "rg:   6.947125763784902\n",
      "ROC-AUC:\n",
      "cn:   0.6454511309842422\n",
      "aa:   0.6492232259387529\n",
      "ra:   0.6497414262311751\n",
      "clo1: 0.6529466697577154\n",
      "clo2: 0.6784165904452474\n",
      "dgr:  0.6847680289025624\n",
      "\n",
      "PR-AUC:\n",
      "cn:   0.16671165580334055\n",
      "aa:   0.17235649896158586\n",
      "ra:   0.174358701914002\n",
      "clo1: 0.1999512213118539\n",
      "clo2: 0.18932034913644397\n",
      "dgr:  0.1849264634931511\n",
      "\n",
      "\n"
     ]
    },
    {
     "name": "stderr",
     "output_type": "stream",
     "text": [
      "\r",
      " 60%|██████    | 6/10 [00:07<00:04,  1.18s/it]"
     ]
    },
    {
     "name": "stdout",
     "output_type": "stream",
     "text": [
      "Result until dataset no.6:\n",
      "rg:   6.961033237609009\n",
      "ROC-AUC:\n",
      "cn:   0.6459567883596828\n",
      "aa:   0.6497022892009897\n",
      "ra:   0.6502311095828278\n",
      "clo1: 0.653319103539077\n",
      "clo2: 0.6792610135181839\n",
      "dgr:  0.686011499294021\n",
      "\n",
      "PR-AUC:\n",
      "cn:   0.16899294426739045\n",
      "aa:   0.1743052674088769\n",
      "ra:   0.1761776925798828\n",
      "clo1: 0.2012902333939538\n",
      "clo2: 0.1886934556997036\n",
      "dgr:  0.1854536689772501\n",
      "\n",
      "\n"
     ]
    },
    {
     "name": "stderr",
     "output_type": "stream",
     "text": [
      "\r",
      " 70%|███████   | 7/10 [00:08<00:03,  1.18s/it]"
     ]
    },
    {
     "name": "stdout",
     "output_type": "stream",
     "text": [
      "Result until dataset no.7:\n",
      "rg:   6.956066282671828\n",
      "ROC-AUC:\n",
      "cn:   0.6471869281662895\n",
      "aa:   0.6508168459230852\n",
      "ra:   0.6513078100201863\n",
      "clo1: 0.6544348217914674\n",
      "clo2: 0.6788527270246985\n",
      "dgr:  0.6856891248766003\n",
      "\n",
      "PR-AUC:\n",
      "cn:   0.17056046398045718\n",
      "aa:   0.17552871012958018\n",
      "ra:   0.17705188114184206\n",
      "clo1: 0.2028877613682152\n",
      "clo2: 0.18819467667519635\n",
      "dgr:  0.184539935538786\n",
      "\n",
      "\n"
     ]
    },
    {
     "name": "stderr",
     "output_type": "stream",
     "text": [
      "\r",
      " 80%|████████  | 8/10 [00:09<00:02,  1.18s/it]"
     ]
    },
    {
     "name": "stdout",
     "output_type": "stream",
     "text": [
      "Result until dataset no.8:\n",
      "rg:   6.965379323179043\n",
      "ROC-AUC:\n",
      "cn:   0.6499245898704025\n",
      "aa:   0.6535071197993685\n",
      "ra:   0.6539577481107655\n",
      "clo1: 0.6571080484453005\n",
      "clo2: 0.6790293600605724\n",
      "dgr:  0.6866658230390819\n",
      "\n",
      "PR-AUC:\n",
      "cn:   0.17261722365186719\n",
      "aa:   0.17724568995310208\n",
      "ra:   0.17841969089678048\n",
      "clo1: 0.20497312561433145\n",
      "clo2: 0.18867380013202956\n",
      "dgr:  0.18538915764029285\n",
      "\n",
      "\n"
     ]
    },
    {
     "name": "stderr",
     "output_type": "stream",
     "text": [
      "\r",
      " 90%|█████████ | 9/10 [00:10<00:01,  1.18s/it]"
     ]
    },
    {
     "name": "stdout",
     "output_type": "stream",
     "text": [
      "Result until dataset no.9:\n",
      "rg:   6.961033237609009\n",
      "ROC-AUC:\n",
      "cn:   0.6493214230973633\n",
      "aa:   0.6529079163743413\n",
      "ra:   0.6533737435487592\n",
      "clo1: 0.6564241045660514\n",
      "clo2: 0.6785931653572006\n",
      "dgr:  0.6862698229779991\n",
      "\n",
      "PR-AUC:\n",
      "cn:   0.17077670776332252\n",
      "aa:   0.17552178613882086\n",
      "ra:   0.1768874316810042\n",
      "clo1: 0.20298821353313212\n",
      "clo2: 0.18742030974466822\n",
      "dgr:  0.18395959351726598\n",
      "\n",
      "\n"
     ]
    },
    {
     "name": "stderr",
     "output_type": "stream",
     "text": [
      "100%|██████████| 10/10 [00:11<00:00,  1.18s/it]\n",
      "  0%|          | 0/10 [00:00<?, ?it/s]"
     ]
    },
    {
     "name": "stdout",
     "output_type": "stream",
     "text": [
      "Result until dataset no.10:\n",
      "rg:   6.957556369152982\n",
      "ROC-AUC:\n",
      "cn:   0.6490074707815531\n",
      "aa:   0.6525256814770305\n",
      "ra:   0.6529867482220009\n",
      "clo1: 0.6561538027406832\n",
      "clo2: 0.6781713972696297\n",
      "dgr:  0.6852884401620767\n",
      "\n",
      "PR-AUC:\n",
      "cn:   0.17043335244056895\n",
      "aa:   0.17506294849727894\n",
      "ra:   0.17651099113729024\n",
      "clo1: 0.20269427232509218\n",
      "clo2: 0.1863179318580232\n",
      "dgr:  0.18299786411478275\n",
      "\n",
      "\n",
      "rg:   6.958\n",
      "ROC-AUC/n\n",
      "cn:   0.649\n",
      "aa:   0.653\n",
      "ra:   0.653\n",
      "clo1: 0.656\n",
      "clo2: 0.678\n",
      "dgr:  0.685\n",
      "PR-AUC/n\n",
      "cn: 0.170\n",
      "aa: 0.175\n",
      "ra: 0.177\n",
      "clo1: 0.203\n",
      "clo2: 0.186\n",
      "dgr:  0.183\n",
      "no sampling\n",
      "train test split time: 10: using 50.00 % of edges to predict 50.00 % edges\n",
      "Number of dataset: 10\n"
     ]
    },
    {
     "name": "stderr",
     "output_type": "stream",
     "text": [
      "\r",
      " 10%|█         | 1/10 [00:02<00:19,  2.18s/it]"
     ]
    },
    {
     "name": "stdout",
     "output_type": "stream",
     "text": [
      "Result until dataset no.1:\n",
      "rg:   3.9628601512395902\n",
      "ROC-AUC:\n",
      "cn:   0.7414986372025796\n",
      "aa:   0.7409499408642107\n",
      "ra:   0.7405721198908037\n",
      "clo1: 0.7451168222988941\n",
      "clo2: 0.7764852367566673\n",
      "dgr:  0.7765588869100278\n",
      "\n",
      "PR-AUC:\n",
      "cn:   0.24048591763892413\n",
      "aa:   0.23586991907858984\n",
      "ra:   0.231580509165897\n",
      "clo1: 0.2957922089591578\n",
      "clo2: 0.2528296786939621\n",
      "dgr:  0.2262983068928108\n",
      "\n",
      "\n"
     ]
    },
    {
     "name": "stderr",
     "output_type": "stream",
     "text": [
      "\r",
      " 20%|██        | 2/10 [00:04<00:17,  2.17s/it]"
     ]
    },
    {
     "name": "stdout",
     "output_type": "stream",
     "text": [
      "Result until dataset no.2:\n",
      "rg:   3.9944913001095914\n",
      "ROC-AUC:\n",
      "cn:   0.7443869904047049\n",
      "aa:   0.7436016121091843\n",
      "ra:   0.7430358516988378\n",
      "clo1: 0.747884101833884\n",
      "clo2: 0.7771660738829844\n",
      "dgr:  0.7781883564079501\n",
      "\n",
      "PR-AUC:\n",
      "cn:   0.24783244594037737\n",
      "aa:   0.24059505190012734\n",
      "ra:   0.2336941957401827\n",
      "clo1: 0.2993860738776999\n",
      "clo2: 0.249567210906045\n",
      "dgr:  0.22363030614517032\n",
      "\n",
      "\n"
     ]
    },
    {
     "name": "stderr",
     "output_type": "stream",
     "text": [
      "\r",
      " 30%|███       | 3/10 [00:06<00:15,  2.17s/it]"
     ]
    },
    {
     "name": "stdout",
     "output_type": "stream",
     "text": [
      "Result until dataset no.3:\n",
      "rg:   3.9730286857320736\n",
      "ROC-AUC:\n",
      "cn:   0.7459691878991115\n",
      "aa:   0.7451729580031262\n",
      "ra:   0.744643528624079\n",
      "clo1: 0.7495659781210146\n",
      "clo2: 0.7781376953847826\n",
      "dgr:  0.7790953594823464\n",
      "\n",
      "PR-AUC:\n",
      "cn:   0.24934408736989053\n",
      "aa:   0.2422768610199051\n",
      "ra:   0.23590078786274019\n",
      "clo1: 0.30157544120508933\n",
      "clo2: 0.24903219581216376\n",
      "dgr:  0.22183211438782416\n",
      "\n",
      "\n"
     ]
    }
   ],
   "source": [
    "#nx.link_pred_directed_network(FW_Chesa, \"link_pred_results/FW-Chesa\")\n",
    "nx.link_pred_directed_network(FW_Mangwet, \"link_pred_results/FW-Mangwet\")\n",
    "nx.link_pred_directed_network(FW_Baydry, \"link_pred_results/FW-BayDry\")\n",
    "nx.link_pred_directed_network(FW_Baywet, \"link_pred_results/FW-BayWet\")\n",
    "nx.link_pred_directed_network(FW_LittleRock, \"link_pred_results/FW-LittleRock\")\n",
    "\n",
    "nx.link_pred_directed_network(Soc_Alpha, \"link_pred_results/Soc-Alpha\", repeat=1)\n",
    "nx.link_pred_directed_network(Soc_OTC, \"link_pred_results/Soc-OTC\", repeat=1)"
   ]
  },
  {
   "cell_type": "code",
   "execution_count": null,
   "metadata": {},
   "outputs": [],
   "source": [
    "nx.link_pred_directed_network(Soc_Epinions, \"link_pred_results/Soc_Epinions\")"
   ]
  },
  {
   "cell_type": "code",
   "execution_count": null,
   "metadata": {},
   "outputs": [],
   "source": [
    "nx.link_pred_directed_network(Soc_Advogato, \"link_pred_results/Soc_Advogato\")"
   ]
  },
  {
   "cell_type": "code",
   "execution_count": null,
   "metadata": {},
   "outputs": [],
   "source": []
  }
 ],
 "metadata": {
  "kernelspec": {
   "display_name": "Python 3",
   "language": "python",
   "name": "python3"
  },
  "language_info": {
   "codemirror_mode": {
    "name": "ipython",
    "version": 3
   },
   "file_extension": ".py",
   "mimetype": "text/x-python",
   "name": "python",
   "nbconvert_exporter": "python",
   "pygments_lexer": "ipython3",
   "version": "3.8.5"
  }
 },
 "nbformat": 4,
 "nbformat_minor": 4
}
