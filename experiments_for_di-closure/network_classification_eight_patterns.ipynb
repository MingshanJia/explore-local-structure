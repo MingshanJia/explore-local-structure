{
 "cells": [
  {
   "cell_type": "code",
   "execution_count": 1,
   "metadata": {},
   "outputs": [],
   "source": [
    "import networkx as nx\n",
    "import numpy as np\n",
    "import matplotlib.pyplot as plt\n",
    "from sklearn import metrics\n",
    "from sklearn.cluster import KMeans\n",
    "from sklearn.decomposition import PCA\n",
    "from sklearn.preprocessing import scale"
   ]
  },
  {
   "cell_type": "code",
   "execution_count": 21,
   "metadata": {},
   "outputs": [],
   "source": [
    "fw_1 = nx.average_eight_patterns(FW_Chesa)\n",
    "fw_2 = nx.average_eight_patterns(FW_Baywet)\n",
    "fw_3 = nx.average_eight_patterns(FW_Baydry)\n",
    "fw_4 = nx.average_eight_patterns(FW_LittleRock)\n",
    "\n",
    "trust_1 = nx.average_eight_patterns(Soc_Alpha)\n",
    "trust_2 = nx.average_eight_patterns(Soc_OTC)\n",
    "\n",
    "cit_1 = nx.average_eight_patterns(Cit_DBLP)\n",
    "cit_2 = nx.average_eight_patterns(Cit_Cora)\n",
    "cit_3 = nx.average_eight_patterns(Cit_HepPh)\n",
    "cit_4 = nx.average_eight_patterns(Cit_HepTh)\n",
    "\n",
    "qa_1 = nx.average_eight_patterns(QA_Math)\n",
    "qa_2 = nx.average_eight_patterns(QA_Ubuntu)\n",
    "\n",
    "ppi_1 = nx.average_eight_patterns(PPI_Figeys)\n",
    "ppi_2 = nx.average_eight_patterns(PPI_Stelzl)"
   ]
  },
  {
   "cell_type": "code",
   "execution_count": 152,
   "metadata": {},
   "outputs": [],
   "source": [
    "X = []\n",
    "X.append(trust_1)\n",
    "X.append(trust_2)\n",
    "X.append(fw_1)\n",
    "X.append(fw_2)\n",
    "X.append(fw_3)\n",
    "X.append(fw_4)\n",
    "X.append(cit_1)\n",
    "X.append(cit_2)\n",
    "X.append(cit_3)\n",
    "X.append(cit_4)\n",
    "X.append(qa_1)\n",
    "X.append(qa_2)\n",
    "X.append(ppi_1)\n",
    "X.append(ppi_2)"
   ]
  },
  {
   "cell_type": "code",
   "execution_count": 23,
   "metadata": {},
   "outputs": [],
   "source": [
    "labels = [1, 1, 2, 2, 2, 2, 3, 3, 3, 3, 4, 4, 5, 5]"
   ]
  },
  {
   "cell_type": "code",
   "execution_count": 154,
   "metadata": {},
   "outputs": [],
   "source": [
    "data = scale(X)\n",
    "n_samples, n_features = data.shape\n",
    "n_cluster = len(np.unique(labels))"
   ]
  },
  {
   "cell_type": "code",
   "execution_count": 155,
   "metadata": {},
   "outputs": [],
   "source": [
    "def classify_networks(data, n_cluster, repeat=500):\n",
    "    homo = 0\n",
    "    compl = 0\n",
    "    v_measure = 0\n",
    "    for i in range(repeat):\n",
    "        estimator = KMeans(init='random', n_clusters=n_cluster, n_init=1)\n",
    "        estimator.fit(data)\n",
    "        h = metrics.homogeneity_score(labels, estimator.labels_)\n",
    "        c = metrics.completeness_score(labels, estimator.labels_)\n",
    "        v = metrics.v_measure_score(labels, estimator.labels_)\n",
    "        if h > homo:\n",
    "            homo = h\n",
    "        if c > compl:\n",
    "            compl = c\n",
    "        if v > v_measure:\n",
    "            v_measure = v\n",
    "            model = estimator\n",
    "    return model, homo, compl, v_measure"
   ]
  },
  {
   "cell_type": "markdown",
   "metadata": {},
   "source": [
    "# Closure patterns are better features in network classification"
   ]
  },
  {
   "cell_type": "code",
   "execution_count": 156,
   "metadata": {},
   "outputs": [
    {
     "data": {
      "text/plain": [
       "(KMeans(init='random', n_clusters=5, n_init=1),\n",
       " 0.8722165935233487,\n",
       " 0.8937703335722145,\n",
       " 0.8828619326448721)"
      ]
     },
     "execution_count": 156,
     "metadata": {},
     "output_type": "execute_result"
    }
   ],
   "source": [
    "classify_networks(data[:, :4], n_cluster=5, repeat=1000)"
   ]
  },
  {
   "cell_type": "code",
   "execution_count": 157,
   "metadata": {},
   "outputs": [
    {
     "data": {
      "text/plain": [
       "(KMeans(init='random', n_clusters=5, n_init=1),\n",
       " 0.7569035545284655,\n",
       " 0.8049897350527181,\n",
       " 0.7706836403528206)"
      ]
     },
     "execution_count": 157,
     "metadata": {},
     "output_type": "execute_result"
    }
   ],
   "source": [
    "classify_networks(data[:, 4:], n_cluster=5, repeat=1000)"
   ]
  },
  {
   "cell_type": "code",
   "execution_count": 169,
   "metadata": {},
   "outputs": [
    {
     "data": {
      "text/plain": [
       "(KMeans(init='random', n_clusters=5, n_init=1),\n",
       " 0.5045270290651706,\n",
       " 0.6016667847080637,\n",
       " 0.5234623836850996)"
      ]
     },
     "execution_count": 169,
     "metadata": {},
     "output_type": "execute_result"
    }
   ],
   "source": [
    "classify_networks(data[:, [7]], n_cluster=5, repeat=1000)"
   ]
  },
  {
   "cell_type": "code",
   "execution_count": null,
   "metadata": {},
   "outputs": [],
   "source": [
    "# use k, C, E, I, O\n",
    "reduced_data = PCA(n_components=2).fit_transform(processed_data)\n",
    "kmeans,_,_,_ = classify_networks(reduced_data, n_cluster=6, repeat=1000)\n",
    "print(metrics.homogeneity_score(labels, kmeans.labels_))\n",
    "print(metrics.completeness_score(labels, kmeans.labels_))\n",
    "print(metrics.v_measure_score(labels, kmeans.labels_))"
   ]
  },
  {
   "cell_type": "code",
   "execution_count": null,
   "metadata": {},
   "outputs": [],
   "source": [
    "# pca = PCA(n_components=5)\n",
    "# pca.fit(processed_data)\n",
    "# print(pca.explained_variance_ratio_)\n",
    "# print(pca.singular_values_)"
   ]
  },
  {
   "cell_type": "code",
   "execution_count": null,
   "metadata": {},
   "outputs": [],
   "source": [
    "# use k, C, E\n",
    "reduced_data_2 = PCA(n_components=2).fit_transform(processed_data[:, :3])\n",
    "kmeans_2,_,_,_ = classify_networks(reduced_data_2, n_cluster=6, repeat=1000)\n",
    "print(metrics.homogeneity_score(labels, kmeans_2.labels_))\n",
    "print(metrics.completeness_score(labels, kmeans_2.labels_))\n",
    "print(metrics.v_measure_score(labels, kmeans_2.labels_))"
   ]
  },
  {
   "cell_type": "code",
   "execution_count": null,
   "metadata": {},
   "outputs": [],
   "source": [
    "h = .01\n",
    "# Plot the decision boundary. For that, we will assign a color to each\n",
    "x_min, x_max = reduced_data[:, 0].min() - 0.8, reduced_data[:, 0].max() + 0.8\n",
    "y_min, y_max = reduced_data[:, 1].min() - 0.8, reduced_data[:, 1].max() + 0.8\n",
    "xx, yy = np.meshgrid(np.arange(x_min, x_max, h), np.arange(y_min, y_max, h))\n",
    "# Obtain labels for each point in mesh. Use last trained model.\n",
    "Z = kmeans.predict(np.c_[xx.ravel(), yy.ravel()])\n",
    "# Put the result into a color plot\n",
    "Z = Z.reshape(xx.shape)\n",
    "\n",
    "# bottom figure\n",
    "x_min_2, x_max_2 = reduced_data_2[:, 0].min() - 0.8, reduced_data_2[:, 0].max() + 0.8\n",
    "y_min_2, y_max_2 = reduced_data_2[:, 1].min() - 0.8, reduced_data_2[:, 1].max() + 0.8\n",
    "xx_2, yy_2 = np.meshgrid(np.arange(x_min_2, x_max_2, h), np.arange(y_min_2, y_max_2, h))\n",
    "# Obtain labels for each point in mesh. Use last trained model.\n",
    "Z_2 = kmeans_2.predict(np.c_[xx_2.ravel(), yy_2.ravel()])\n",
    "# Put the result into a color plot\n",
    "Z_2 = Z_2.reshape(xx_2.shape)\n",
    "\n",
    "\n",
    "onepic, axes = plt.subplots(1,2,figsize=(21,7.7))\n",
    "plt.subplots_adjust(hspace=0.12, wspace=.12) \n",
    "axes[0].imshow(Z, interpolation='nearest',\n",
    "           extent=(xx.min(), xx.max(), yy.min(), yy.max()),\n",
    "           cmap='summer',\n",
    "           aspect='auto', origin='lower')\n",
    "axes[0].plot(tag_fw[:, 0], tag_fw[:, 1], 's', markersize=9, color=\"blue\", label=\"FW\")\n",
    "axes[0].plot(tag_soc[:, 0], tag_soc[:, 1], '>', markersize=10, color=\"red\", label=\"Soc\")\n",
    "axes[0].plot(tag_ppi[:, 0], tag_ppi[:, 1], 'D', markersize=9, color=\"blue\", label=\"PPI\")\n",
    "axes[0].plot(tag_cit[:, 0], tag_cit[:, 1], '<', markersize=10, color=\"red\", label=\"Cit\")\n",
    "axes[0].plot(tag_rd[:, 0], tag_rd[:, 1], 'd', markersize=11, color=\"blue\", label=\"Rd\")\n",
    "axes[0].plot(tag_qa[:, 0], tag_qa[:, 1], '^', markersize=10, color=\"red\", label=\"QA\")\n",
    "\n",
    "axes[0].legend(prop={'size': 14}, ncol=2)\n",
    "centroids = kmeans.cluster_centers_\n",
    "# area labels\n",
    "axes[0].text(-2, 2.5, \"6\", size=22, bbox=dict(boxstyle=\"circle\",ec='k',fc='w',))\n",
    "axes[0].text(1.3, 0.9, \"4\", size=22, bbox=dict(boxstyle=\"circle\",ec='k',fc='w',))\n",
    "axes[0].text(-0.73, 0.50, \"5\", size=22, bbox=dict(boxstyle=\"circle\",ec='k',fc='w',))\n",
    "axes[0].text(3.28, 1.18, \"1\", size=22, bbox=dict(boxstyle=\"circle\",ec='k',fc='w',))\n",
    "axes[0].text(-2, -1.4, \"3\", size=22, bbox=dict(boxstyle=\"circle\",ec='k',fc='w',))\n",
    "axes[0].text(0.55, -1.8, \"2\", size=22, bbox=dict(boxstyle=\"circle\",ec='k',fc='w',))\n",
    "axes[0].scatter(centroids[:, 0], centroids[:, 1], marker='x', s=200, color='k')\n",
    "axes[0].set_title('(a). with quadrangle coefficients', fontsize=19)\n",
    "axes[0].set_xticks(())\n",
    "axes[0].set_yticks(())\n",
    "\n",
    "# bottom figure\n",
    "axes[1].imshow(Z_2, interpolation='nearest',\n",
    "           extent=(xx_2.min(), xx_2.max(), yy_2.min(), yy_2.max()),\n",
    "           cmap='summer',\n",
    "           aspect='auto', origin='lower')\n",
    "axes[1].plot(tag_fw_2[:, 0], tag_fw_2[:, 1], 's', markersize=9, color=\"blue\", label=\"FW\")\n",
    "axes[1].plot(tag_soc_2[:, 0], tag_soc_2[:, 1], '>', markersize=10, color=\"red\", label=\"Soc\")\n",
    "axes[1].plot(tag_ppi_2[:, 0], tag_ppi_2[:, 1], 'D', markersize=9, color=\"blue\", label=\"PPI\")\n",
    "axes[1].plot(tag_cit_2[:, 0], tag_cit_2[:, 1], '<', markersize=10, color=\"red\", label=\"Cit\")\n",
    "axes[1].plot(tag_rd_2[:, 0], tag_rd_2[:, 1], 'd', markersize=11, color=\"blue\", label=\"Rd\")\n",
    "axes[1].plot(tag_qa_2[:, 0], tag_qa_2[:, 1], '^', markersize=10, color=\"red\", label=\"QA\")\n",
    "\n",
    "axes[1].legend(prop={'size': 14}, ncol=2)\n",
    "centroids_2 = kmeans_2.cluster_centers_\n",
    "axes[1].text(3.45, -0.22, \"2\", size=22, bbox=dict(boxstyle=\"circle\",ec='k',fc='w',))\n",
    "axes[1].text(-1.6, 0.4, \"5\", size=22, bbox=dict(boxstyle=\"circle\",ec='k',fc='w',))\n",
    "axes[1].text(-0.25, -0.37, \"3\", size=22, bbox=dict(boxstyle=\"circle\",ec='k',fc='w',))\n",
    "axes[1].text(-0.8, -0.9, \"1\", size=22, bbox=dict(boxstyle=\"circle\",ec='k',fc='w',))\n",
    "axes[1].text(-0, 0.94, \"6\", size=22, bbox=dict(boxstyle=\"circle\",ec='k',fc='w',))\n",
    "axes[1].text(1.58, 0, \"4\", size=22, bbox=dict(boxstyle=\"circle\",ec='k',fc='w',))\n",
    "axes[1].scatter(centroids_2[:, 0], centroids_2[:, 1], marker='x', s=200, color='k')\n",
    "axes[1].set_title('(b). without quadrangle coefficients', fontsize=19)\n",
    "axes[1].set_xticks(())\n",
    "axes[1].set_yticks(())\n",
    "\n",
    "plt.savefig('network_classification.pdf')"
   ]
  },
  {
   "cell_type": "code",
   "execution_count": null,
   "metadata": {},
   "outputs": [],
   "source": [
    "kmeans.labels_ + 1"
   ]
  },
  {
   "cell_type": "code",
   "execution_count": null,
   "metadata": {},
   "outputs": [],
   "source": [
    "kmeans_2.labels_ + 1"
   ]
  },
  {
   "cell_type": "code",
   "execution_count": null,
   "metadata": {},
   "outputs": [],
   "source": [
    "tag_fw = reduced_data[:2]\n",
    "tag_soc = reduced_data[2:6]\n",
    "tag_ppi = reduced_data[6:10]\n",
    "tag_cit = reduced_data[10:12]\n",
    "tag_rd = reduced_data[12:14]\n",
    "tag_qa = reduced_data[14:]"
   ]
  },
  {
   "cell_type": "code",
   "execution_count": null,
   "metadata": {},
   "outputs": [],
   "source": [
    "tag_fw_2 = reduced_data_2[:2]\n",
    "tag_soc_2 = reduced_data_2[2:6]\n",
    "tag_ppi_2 = reduced_data_2[6:10]\n",
    "tag_cit_2 = reduced_data_2[10:12]\n",
    "tag_rd_2 = reduced_data_2[12:14]\n",
    "tag_qa_2 = reduced_data_2[14:]"
   ]
  },
  {
   "cell_type": "code",
   "execution_count": 18,
   "metadata": {},
   "outputs": [],
   "source": [
    "FW_Chesa = nx.read_edgelist(\"datasets/FW-Chesa\", create_using=nx.DiGraph)\n",
    "FW_Baywet = nx.read_edgelist(\"datasets/FW-Baywet\", create_using=nx.DiGraph, data = (('weight', float),))\n",
    "FW_Baydry = nx.read_edgelist(\"datasets/FW-Baydry\", create_using=nx.DiGraph, data = (('weight', float),))\n",
    "FW_LittleRock = nx.read_edgelist(\"datasets/FW-LittleRock\", create_using=nx.DiGraph)\n",
    "\n",
    "#Soc_EmailEu = nx.read_edgelist(\"datasets/Soc-EmailEu\", create_using=nx.Graph, data=(('sec', int),))\n",
    "#Soc_Msg = nx.read_edgelist(\"datasets/CollegeMsg\", create_using=nx.Graph, data=(('sec', int),))\n",
    "Soc_Alpha = nx.read_edgelist(\"datasets/BTC-Alpha\", delimiter = ',', create_using=nx.DiGraph, data=(('weight', int),('sec', int),))\n",
    "Soc_OTC = nx.read_edgelist(\"datasets/BTC-OTC\", delimiter = ',', create_using=nx.DiGraph, data=(('weight', int),('sec', float),))\n",
    "\n",
    "#Soc_FB = nx.read_edgelist(\"datasets/Soc-FB\", delimiter = ',', create_using=nx.Graph)\n",
    "#Soc_Twitch = nx.read_edgelist(\"datasets/Soc-Twitch-Fr\", delimiter = ',', create_using=nx.Graph)\n",
    "\n",
    "PPI_Stelzl = nx.read_edgelist(\"datasets/HP-Stelzl\", create_using=nx.DiGraph)\n",
    "PPI_Figeys = nx.read_edgelist(\"datasets/HP-Figeys\", create_using=nx.DiGraph)\n",
    "\n",
    "Cit_DBLP = nx.read_edgelist(\"datasets/Cit-DBLP\", create_using=nx.DiGraph, data=(('weight', int),('sec', int),))\n",
    "Cit_Cora = nx.read_edgelist(\"datasets/Cit-Cora\", create_using=nx.DiGraph)\n",
    "Cit_HepPh = nx.read_edgelist(\"datasets/Cit-HepPh\", create_using=nx.DiGraph)\n",
    "Cit_HepTh = nx.read_edgelist(\"datasets/Cit-HepTh\", create_using=nx.DiGraph)\n",
    "\n",
    "\n",
    "QA_Math = nx.read_edgelist(\"datasets/QA-MathOvfl-a2q\", create_using=nx.DiGraph, data=(('sec', int),))\n",
    "QA_Ubuntu = nx.read_edgelist(\"datasets/QA-AskUbuntu-a2q\", create_using=nx.DiGraph, data=(('sec', int),))"
   ]
  },
  {
   "cell_type": "code",
   "execution_count": 15,
   "metadata": {},
   "outputs": [
    {
     "data": {
      "text/plain": [
       "(0.12249791150450536,\n",
       " 0.08562257743701326,\n",
       " 0.08977220795195943,\n",
       " 0.006579827310761368,\n",
       " 0.555383670848817,\n",
       " 0.0851832536618068,\n",
       " 0.38867819878455623,\n",
       " 0.013631433570303537)"
      ]
     },
     "execution_count": 15,
     "metadata": {},
     "output_type": "execute_result"
    }
   ],
   "source": []
  },
  {
   "cell_type": "code",
   "execution_count": null,
   "metadata": {},
   "outputs": [],
   "source": []
  }
 ],
 "metadata": {
  "kernelspec": {
   "display_name": "Python 3",
   "language": "python",
   "name": "python3"
  },
  "language_info": {
   "codemirror_mode": {
    "name": "ipython",
    "version": 3
   },
   "file_extension": ".py",
   "mimetype": "text/x-python",
   "name": "python",
   "nbconvert_exporter": "python",
   "pygments_lexer": "ipython3",
   "version": "3.8.3"
  }
 },
 "nbformat": 4,
 "nbformat_minor": 4
}
