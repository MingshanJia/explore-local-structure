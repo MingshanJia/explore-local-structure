{
 "cells": [
  {
   "cell_type": "code",
   "execution_count": 1,
   "metadata": {},
   "outputs": [],
   "source": [
    "import networkx as nx\n",
    "import random\n",
    "import numpy as np\n",
    "import pandas as pd\n",
    "import seaborn as sns\n",
    "import matplotlib.pyplot as plt\n",
    "%matplotlib inline"
   ]
  },
  {
   "cell_type": "code",
   "execution_count": 2,
   "metadata": {},
   "outputs": [],
   "source": [
    "# Digg = nx.read_edgelist(\"datasets/digg-friends\", create_using=nx.DiGraph, data=(('weight', int),('sec', int),))"
   ]
  },
  {
   "cell_type": "code",
   "execution_count": 3,
   "metadata": {},
   "outputs": [],
   "source": [
    "Ubuntu = nx.read_edgelist(\"datasets/askubuntu-c2q.txt\", create_using=nx.DiGraph, data=(('sec', int),))"
   ]
  },
  {
   "cell_type": "code",
   "execution_count": 4,
   "metadata": {},
   "outputs": [],
   "source": [
    "# Math = nx.read_edgelist(\"datasets/mathoverflow-a2q.txt\", create_using=nx.DiGraph, data=(('sec', int),))"
   ]
  },
  {
   "cell_type": "code",
   "execution_count": 5,
   "metadata": {},
   "outputs": [],
   "source": [
    "Msg = nx.read_edgelist(\"datasets/CollegeMsg.txt\", create_using=nx.DiGraph, data=(('sec', int),))"
   ]
  },
  {
   "cell_type": "code",
   "execution_count": 6,
   "metadata": {},
   "outputs": [],
   "source": [
    "patterns_Msg = nx.get_eight_patterns_df(Msg)"
   ]
  },
  {
   "cell_type": "code",
   "execution_count": 8,
   "metadata": {},
   "outputs": [],
   "source": [
    "# patterns_Ubuntu = nx.get_eight_patterns_df(Ubuntu)"
   ]
  },
  {
   "cell_type": "code",
   "execution_count": 9,
   "metadata": {},
   "outputs": [
    {
     "data": {
      "text/plain": [
       "<matplotlib.axes._subplots.AxesSubplot at 0x7fc0e0615dc0>"
      ]
     },
     "execution_count": 9,
     "metadata": {},
     "output_type": "execute_result"
    },
    {
     "data": {
      "image/png": "[encoded data removed]",
      "text/plain": [
       "<Figure size 432x288 with 2 Axes>"
      ]
     },
     "metadata": {
      "needs_background": "light"
     },
     "output_type": "display_data"
    }
   ],
   "source": [
    "sns.heatmap(patterns_Msg.corr())"
   ]
  },
  {
   "cell_type": "code",
   "execution_count": null,
   "metadata": {},
   "outputs": [],
   "source": []
  },
  {
   "cell_type": "code",
   "execution_count": null,
   "metadata": {},
   "outputs": [],
   "source": []
  },
  {
   "cell_type": "code",
   "execution_count": null,
   "metadata": {},
   "outputs": [],
   "source": [
    "nx.head_closure(Msg, nodes = ['1', '2', '3', '4'])"
   ]
  },
  {
   "cell_type": "code",
   "execution_count": null,
   "metadata": {},
   "outputs": [],
   "source": [
    "print(nx.average_head_closure(Msg))\n",
    "print(nx.average_end_closure(Msg))\n",
    "print(nx.average_mid_closure(Msg))\n",
    "print(nx.average_cyc_closure(Msg))"
   ]
  },
  {
   "cell_type": "code",
   "execution_count": null,
   "metadata": {},
   "outputs": [],
   "source": [
    "nx.average_four_patterns(Msg, closure=False)"
   ]
  },
  {
   "cell_type": "code",
   "execution_count": null,
   "metadata": {},
   "outputs": [],
   "source": []
  },
  {
   "cell_type": "code",
   "execution_count": null,
   "metadata": {},
   "outputs": [],
   "source": []
  },
  {
   "cell_type": "code",
   "execution_count": null,
   "metadata": {},
   "outputs": [],
   "source": [
    "nx.link_pred_sample_app(Ubuntu, repeat=1)"
   ]
  },
  {
   "cell_type": "code",
   "execution_count": null,
   "metadata": {},
   "outputs": [],
   "source": []
  },
  {
   "cell_type": "code",
   "execution_count": null,
   "metadata": {},
   "outputs": [],
   "source": [
    "nx.direction_pred_app(G, method = 'mixed', repeat=10, b = 100)"
   ]
  },
  {
   "cell_type": "code",
   "execution_count": null,
   "metadata": {},
   "outputs": [],
   "source": [
    "old_pct = 0.5\n",
    "e_all = list(G.edges(data=True))\n",
    "e_all = sorted(e_all, key=lambda t: t[2].get('sec'))    #for networks with timestamps\n",
    "k = round(len(e_all) * old_pct)\n",
    "\n",
    "e_old = e_all[: k]\n",
    "e_new = e_all[k:]\n",
    "G_old = nx.DiGraph()\n",
    "G_old.add_edges_from(e_old)"
   ]
  },
  {
   "cell_type": "code",
   "execution_count": null,
   "metadata": {},
   "outputs": [],
   "source": [
    "random.shuffle(e_new)\n",
    "e_new_sample = e_new[: 1000]\n",
    "e_target = get_e_possible_to_predict(e_new_sample, G_old)  # ground truth\n",
    "target_num_links = len(e_target)\n",
    "print(\"target number of links: %d\" % target_num_links)\n",
    "\n",
    "G_new = nx.DiGraph()\n",
    "G_new.add_edges_from(e_target)  # ground truth\n",
    "G_new_undirected = G_new.to_undirected()"
   ]
  },
  {
   "cell_type": "code",
   "execution_count": null,
   "metadata": {},
   "outputs": [],
   "source": [
    "dict_ce = nx.closure(G_old, G_new_undirected.nodes())"
   ]
  },
  {
   "cell_type": "code",
   "execution_count": null,
   "metadata": {},
   "outputs": [],
   "source": [
    "for e in G_new_undirected.edges():\n",
    "    print(\"closure: %.3f; degree: %d\\n\" % (dict_ce[e[0]][1], G_old.out_degree(e[0])))"
   ]
  },
  {
   "cell_type": "code",
   "execution_count": null,
   "metadata": {},
   "outputs": [],
   "source": []
  },
  {
   "cell_type": "code",
   "execution_count": null,
   "metadata": {},
   "outputs": [],
   "source": [
    "# using degree score\n",
    "dict_e_with_di_score = get_direction_score(G_new_undirected, G_old)"
   ]
  },
  {
   "cell_type": "code",
   "execution_count": null,
   "metadata": {},
   "outputs": [],
   "source": [
    "dict_e_with_zero = {k:v for k,v in dict_e_with_di_score.items() if v[0]==0}   # dict containg edges with zero direction score\n",
    "ordered_list_of_zero_dict = [(k, v) for k, v in sorted(dict_e_with_zero.items(), key=lambda item: item[1][1], reverse=True)]  #sort according to L2R + R2L in descending order\n",
    "len_zero = len(ordered_list_of_zero_dict)\n",
    "\n",
    "res_G_directed = nx.DiGraph()  # what to return\n",
    "\n",
    "for k, v in dict_e_with_di_score.items():\n",
    "    if v[0] > 0:\n",
    "        res_G_directed.add_edge(k[0], k[1])\n",
    "    if v[0] < 0:\n",
    "        res_G_directed.add_edge(k[1], k[0])\n",
    "current_num_link = res_G_directed.number_of_edges()"
   ]
  },
  {
   "cell_type": "code",
   "execution_count": null,
   "metadata": {},
   "outputs": [],
   "source": [
    "index = 0\n",
    "while current_num_link < target_num_links and index < len_zero:\n",
    "    e_key = ordered_list_of_zero_dict[index][0]\n",
    "    res_G_directed.add_edge(e_key[0], e_key[1])\n",
    "    current_num_link += 1\n",
    "    if current_num_link == target_num_links:\n",
    "        break\n",
    "    res_G_directed.add_edge(e_key[1], e_key[0])\n",
    "    current_num_link += 1\n",
    "    index += 1"
   ]
  },
  {
   "cell_type": "code",
   "execution_count": null,
   "metadata": {},
   "outputs": [],
   "source": [
    "if current_num_link < target_num_links:\n",
    "    dict_abs_score = dict()  # used to sort, only contain edges with non_zero score\n",
    "    for key in dict_e_with_di_score:\n",
    "        if dict_e_with_di_score[key][0] != 0:\n",
    "            dict_abs_score[key] = abs(dict_e_with_di_score[key][0])\n",
    "\n",
    "    ordered_list_of_abs_dict = [(k, v) for k, v in\n",
    "                                sorted(dict_abs_score.items(), key=lambda item: item[1])]  # in ascending order"
   ]
  },
  {
   "cell_type": "code",
   "execution_count": null,
   "metadata": {},
   "outputs": [],
   "source": [
    "length = len(ordered_list_of_abs_dict)\n",
    "index = 0  # initialised at the begining of list\n",
    "\n",
    "while current_num_link < target_num_links and index < length:\n",
    "    e_key = ordered_list_of_abs_dict[index][0]\n",
    "    e_value = dict_e_with_di_score[e_key][0]\n",
    "\n",
    "    if e_value > 0:\n",
    "        res_G_directed.add_edge(e_key[1], e_key[0])\n",
    "        current_num_link += 1\n",
    "    else:\n",
    "        res_G_directed.add_edge(e_key[0], e_key[1])\n",
    "        current_num_link += 1\n",
    "    index += 1"
   ]
  },
  {
   "cell_type": "code",
   "execution_count": null,
   "metadata": {},
   "outputs": [],
   "source": [
    "current_num_link"
   ]
  },
  {
   "cell_type": "code",
   "execution_count": null,
   "metadata": {},
   "outputs": [],
   "source": [
    "#degree direction result!\n",
    "numerator = 0\n",
    "true_list_degree = []\n",
    "for e in res_G_directed.edges():\n",
    "\n",
    "    if res_G_directed.has_edge(e[0], e[1]) and G_new.has_edge(e[0], e[1]):\n",
    "        numerator += 1\n",
    "        true_list_degree.append(e)"
   ]
  },
  {
   "cell_type": "code",
   "execution_count": null,
   "metadata": {},
   "outputs": [],
   "source": [
    "# closure direction result!\n",
    "numerator = 0\n",
    "true_list_closure = []\n",
    "for e in res_G_directed.edges():\n",
    "\n",
    "    if res_G_directed.has_edge(e[0], e[1]) and G_new.has_edge(e[0], e[1]):\n",
    "        numerator += 1\n",
    "        true_list_closure.append(e)"
   ]
  },
  {
   "cell_type": "code",
   "execution_count": null,
   "metadata": {},
   "outputs": [],
   "source": [
    "common_true = [e for e in true_list_closure if e in true_list_degree]"
   ]
  },
  {
   "cell_type": "code",
   "execution_count": null,
   "metadata": {},
   "outputs": [],
   "source": [
    "print(\"correct predicion with closure score: %d\" % len(true_list_closure))\n",
    "print(\"correct predicion with degree score: %d\" % len(true_list_degree))\n",
    "print(\"intersection of above two %d:\" %len(common_true))"
   ]
  },
  {
   "cell_type": "code",
   "execution_count": null,
   "metadata": {},
   "outputs": [],
   "source": []
  },
  {
   "cell_type": "code",
   "execution_count": null,
   "metadata": {},
   "outputs": [],
   "source": []
  },
  {
   "cell_type": "code",
   "execution_count": null,
   "metadata": {},
   "outputs": [],
   "source": []
  },
  {
   "cell_type": "code",
   "execution_count": null,
   "metadata": {},
   "outputs": [],
   "source": [
    "def get_e_possible_to_predict(e_new, G_old):\n",
    "    e_possible_to_predict = []\n",
    "    old_node_list = list(G_old.nodes())\n",
    "\n",
    "    for e in e_new:\n",
    "        if (e[0] in old_node_list) and (e[1] in old_node_list):\n",
    "            e_possible_to_predict.append(e)\n",
    "    return e_possible_to_predict\n",
    "\n",
    "\n",
    "#get direction score for interested edges, using src-clo and tgt-clo\n",
    "def get_direction_score(G_new_sample, G_old):\n",
    "    dict_e_with_di_score = dict()\n",
    "\n",
    "    dict_ce = nx.closure(G_old, G_new_sample.nodes())   #only for nodes exist in G_new\n",
    "\n",
    "    for e in G_new_sample.edges():\n",
    "        left_src = dict_ce[e[0]][1]\n",
    "        left_tgt = dict_ce[e[0]][2]\n",
    "        right_src = dict_ce[e[1]][1]\n",
    "        right_tgt = dict_ce[e[1]][2]\n",
    "        L2R = left_src + right_tgt\n",
    "        R2L = right_src + left_tgt\n",
    "\n",
    "        dict_e_with_di_score[e] = [L2R - R2L, L2R + R2L]\n",
    "\n",
    "    return dict_e_with_di_score\n",
    "\n",
    "\n",
    "#get direction score for interested edges, using out_degree and in_degree\n",
    "def get_direction_score_two(G_new_sample, G_old):\n",
    "    dict_e_with_di_score = dict()\n",
    "\n",
    "    for e in G_new_sample.edges():\n",
    "        left_src = G_old.out_degree(e[0])\n",
    "        left_tgt = G_old.in_degree(e[0])\n",
    "        right_src = G_old.out_degree(e[1])\n",
    "        right_tgt = G_old.in_degree(e[1])\n",
    "        L2R = left_src + right_tgt\n",
    "        R2L = right_src + left_tgt\n",
    "\n",
    "        dict_e_with_di_score[e] = [L2R - R2L, L2R + R2L]\n",
    "\n",
    "    return dict_e_with_di_score"
   ]
  },
  {
   "cell_type": "code",
   "execution_count": null,
   "metadata": {},
   "outputs": [],
   "source": []
  },
  {
   "cell_type": "code",
   "execution_count": null,
   "metadata": {},
   "outputs": [],
   "source": [
    "Google = nx.read_edgelist(\"datasets/google.txt\", create_using=nx.DiGraph)"
   ]
  },
  {
   "cell_type": "code",
   "execution_count": null,
   "metadata": {},
   "outputs": [],
   "source": [
    "nx.link_pred_sample_app(Google, repeat=2, sample_time=10)"
   ]
  },
  {
   "cell_type": "code",
   "execution_count": null,
   "metadata": {},
   "outputs": [],
   "source": [
    "with open (\"Ubuntu_info.txt\", 'w') as f:\n",
    "    for i in aa:\n",
    "        f.write(\"%.4f\\n\" % i)"
   ]
  },
  {
   "cell_type": "code",
   "execution_count": null,
   "metadata": {},
   "outputs": [],
   "source": [
    "Stack = nx.read_edgelist(\"datasets/stackoverflow-a2q.txt\", create_using=nx.DiGraph, data=(('sec', int),))"
   ]
  },
  {
   "cell_type": "code",
   "execution_count": null,
   "metadata": {},
   "outputs": [],
   "source": [
    "Flickr = nx.read_edgelist(\"datasets/Flickr.txt\", create_using=nx.DiGraph, data=(('weight', int),('sec', int),))"
   ]
  },
  {
   "cell_type": "code",
   "execution_count": null,
   "metadata": {},
   "outputs": [],
   "source": [
    "Epi = nx.read_edgelist(\"datasets/epinions.txt\", create_using=nx.DiGraph, data=(('weight', int),('sec', int),))\n",
    "Alpha = nx.read_edgelist(\"datasets/bitcoinalpha.csv\", delimiter = ',', create_using=nx.DiGraph, data=(('weight', int),('sec', int),))\n",
    "OTC = nx.read_edgelist(\"datasets/bitcoinotc.csv\", delimiter = ',', create_using=nx.DiGraph, data=(('weight', int),('sec', float),))"
   ]
  },
  {
   "cell_type": "code",
   "execution_count": null,
   "metadata": {},
   "outputs": [],
   "source": [
    "Wiki = nx.read_edgelist(\"datasets/wiki-Vote.txt\", create_using=nx.DiGraph)\n",
    "Msg = nx.read_edgelist(\"datasets/CollegeMsg.txt\", create_using=nx.DiGraph, data=(('sec', int),))\n",
    "Blogs = nx.read_edgelist(\"datasets/Blogs.txt\", create_using=nx.DiGraph)"
   ]
  },
  {
   "cell_type": "code",
   "execution_count": null,
   "metadata": {},
   "outputs": [],
   "source": [
    "nx.link_pred_sample_app(Wiki, repeat=5, sample_time=5)"
   ]
  },
  {
   "cell_type": "code",
   "execution_count": null,
   "metadata": {},
   "outputs": [],
   "source": [
    "nx.link_pred_sample_app(Dame, repeat=2, sample_time=2)"
   ]
  },
  {
   "cell_type": "code",
   "execution_count": null,
   "metadata": {},
   "outputs": [],
   "source": [
    "Ama = nx.read_edgelist(\"datasets/amazon.txt\", create_using=nx.DiGraph)"
   ]
  },
  {
   "cell_type": "code",
   "execution_count": null,
   "metadata": {},
   "outputs": [],
   "source": [
    "Cit = nx.read_edgelist(\"datasets/cit-Patents.txt\", create_using=nx.DiGraph)"
   ]
  },
  {
   "cell_type": "code",
   "execution_count": null,
   "metadata": {},
   "outputs": [],
   "source": [
    "Dame = nx.read_edgelist(\"datasets/NotreDame.txt\", create_using=nx.DiGraph)\n",
    "Ado = nx.read_edgelist(\"datasets/Adohealth.txt\", create_using=nx.DiGraph, data=(('weight', int),))\n",
    "Alpha = nx.read_edgelist(\"datasets/bitcoinalpha.csv\", delimiter = ',', create_using=nx.DiGraph, data=(('weight', int),('sec', int),))"
   ]
  },
  {
   "cell_type": "code",
   "execution_count": null,
   "metadata": {},
   "outputs": [],
   "source": [
    "Toy = nx.read_edgelist(\"datasets/toy.csv\", delimiter = ',', create_using=nx.DiGraph, data=(('weight', int),))\n",
    "Toy_signed = nx.read_edgelist(\"datasets/toy_sign.txt\", delimiter = ',', create_using=nx.DiGraph, data=(('weight', int),))"
   ]
  },
  {
   "cell_type": "code",
   "execution_count": null,
   "metadata": {},
   "outputs": [],
   "source": [
    "import matplotlib.pyplot as plt\n",
    "from matplotlib.patches import Ellipse, Polygon\n",
    "\n",
    "fig, (ax1, ax2, ax3) = plt.subplots(3)\n",
    "\n",
    "bars = ax2.bar(range(1, 5), range(1, 5), color='yellow', ecolor='black') + ax2.bar(range(1, 5), [6] * 4, bottom=range(1, 5),\n",
    "            color='green', ecolor='black')\n",
    "ax2.set_xticks([1.5, 2.5, 3.5, 4.5])\n",
    "\n",
    "patterns = ('-', '+', 'x', '\\\\', '*', 'o', 'O', '.')\n",
    "for bar, pattern in zip(bars, patterns):\n",
    "    bar.set_hatch(pattern)"
   ]
  }
 ],
 "metadata": {
  "kernelspec": {
   "display_name": "Python 3",
   "language": "python",
   "name": "python3"
  },
  "language_info": {
   "codemirror_mode": {
    "name": "ipython",
    "version": 3
   },
   "file_extension": ".py",
   "mimetype": "text/x-python",
   "name": "python",
   "nbconvert_exporter": "python",
   "pygments_lexer": "ipython3",
   "version": "3.8.3"
  }
 },
 "nbformat": 4,
 "nbformat_minor": 4
}
